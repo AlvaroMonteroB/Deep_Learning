{
 "cells": [
  {
   "cell_type": "code",
   "execution_count": null,
   "metadata": {},
   "outputs": [],
   "source": [
    "import tensorflow as tf\n",
    "\n",
    "import numpy as np\n",
    "\n",
    "path='/mnt/d/Repositorios/Deep_Learning/Temas Selectos/P2/CNN/model'\n",
    "model=tf.saved_model.load(path)\n",
    "\n",
    "images_Test_path='/mnt/d/Repositorios/Deep_Learning/Temas Selectos/P2/CNN/test_real_images'"
   ]
  }
 ],
 "metadata": {
  "language_info": {
   "name": "python"
  }
 },
 "nbformat": 4,
 "nbformat_minor": 2
}
