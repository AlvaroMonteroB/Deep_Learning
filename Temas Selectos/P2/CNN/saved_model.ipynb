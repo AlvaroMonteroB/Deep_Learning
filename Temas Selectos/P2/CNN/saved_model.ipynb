{
 "cells": [
  {
   "cell_type": "code",
   "execution_count": null,
   "metadata": {},
   "outputs": [],
   "source": [
    "import tensorflow as tf\n",
    "\n",
    "import numpy as np\n",
    "\n",
    "path='/mnt/d/Repositorios/Deep_Learning/Temas Selectos/P2/CNN/model'\n",
    "#path='C:\\Users\\diavl\\OneDrive\\Escritorio\\Repositorios\\Redes_Neuronales\\Temas Selectos\\P2\\CNN\\model_vehicles'\n",
    "model=tf.saved_model.load(path)\n",
    "\n",
    "images_Test_path='/mnt/d/Repositorios/Deep_Learning/Temas Selectos/P2/CNN/test_real_images'"
   ]
  }
 ],
 "metadata": {
  "language_info": {
   "name": "python"
  }
 },
 "nbformat": 4,
 "nbformat_minor": 2
}
