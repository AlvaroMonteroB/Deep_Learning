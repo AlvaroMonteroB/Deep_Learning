{
 "cells": [
  {
   "cell_type": "code",
   "execution_count": 2,
   "metadata": {},
   "outputs": [
    {
     "name": "stdout",
     "output_type": "stream",
     "text": [
      "WARNING:tensorflow:From d:\\anaconda3\\envs\\tensorflow-env\\lib\\site-packages\\keras\\src\\losses.py:2976: The name tf.losses.sparse_softmax_cross_entropy is deprecated. Please use tf.compat.v1.losses.sparse_softmax_cross_entropy instead.\n",
      "\n"
     ]
    }
   ],
   "source": [
    "import tensorflow as tf\n",
    "\n",
    "import numpy as np\n"
   ]
  },
  {
   "cell_type": "code",
   "execution_count": 1,
   "metadata": {},
   "outputs": [],
   "source": [
    "def prediction(predict_array):\n",
    "    indice_maximo = np.argmax(np.array(predict_array[0]))\n",
    "    if indice_maximo==0:\n",
    "        print(\"Sentimiento negativo\")\n",
    "    elif indice_maximo==1:\n",
    "        print(\"Sentimiento neutro\")\n",
    "    elif indice_maximo==2:\n",
    "        print(\"Sentimiento positivo\")"
   ]
  },
  {
   "cell_type": "code",
   "execution_count": 4,
   "metadata": {},
   "outputs": [],
   "source": [
    "path='D:\\Repositorios\\Deep_Learning\\Temas Selectos\\P1\\lstm_model'\n",
    "#D:\\Repositorios\\Deep_Learning\\Temas Selectos\\P1\\lstm_model\n",
    "#/mnt/d/Repositorios/Deep_Learning/Temas Selectos/P1/lstm_model\n",
    "\n",
    "model=tf.saved_model.load(path)"
   ]
  },
  {
   "cell_type": "code",
   "execution_count": 16,
   "metadata": {},
   "outputs": [
    {
     "name": "stdout",
     "output_type": "stream",
     "text": [
      "[8.9236599e-01 2.4375109e-07 1.0763383e-01]\n",
      "Sentimiento negativo\n"
     ]
    }
   ],
   "source": [
    "sample_text = ('The user interface of the application is extremely outdated and unintuitive. Navigating through the menus feels like a chore, and the lack of visual cues makes it difficult to find important features. Additionally, the loading times are excessively long, adding frustration to an already unpleasant experience. Overall, using this application is a frustrating and inefficient process that severely hinders productivity.') #Mayor que 0, positiva. Menor, negativa\n",
    "predictions = model(np.array([sample_text]))\n",
    "print(np.array(predictions[0]))\n",
    "prediction(predictions[0])"
   ]
  },
  {
   "cell_type": "code",
   "execution_count": 24,
   "metadata": {},
   "outputs": [
    {
     "name": "stdout",
     "output_type": "stream",
     "text": [
      "[0.23981248 0.7566001  0.00358744]\n",
      "Sentimiento neutro\n"
     ]
    }
   ],
   "source": [
    "sample_text = ('The shipment was quite slow, i wouldnt recommend it but the product is good enough, it didnt met my expectations')\n",
    "predictions = model(np.array([sample_text]))\n",
    "print(np.array(predictions[0]))\n",
    "prediction(predictions)"
   ]
  }
 ],
 "metadata": {
  "kernelspec": {
   "display_name": "tensorflow-env",
   "language": "python",
   "name": "python3"
  },
  "language_info": {
   "codemirror_mode": {
    "name": "ipython",
    "version": 3
   },
   "file_extension": ".py",
   "mimetype": "text/x-python",
   "name": "python",
   "nbconvert_exporter": "python",
   "pygments_lexer": "ipython3",
   "version": "3.9.18"
  }
 },
 "nbformat": 4,
 "nbformat_minor": 2
}
