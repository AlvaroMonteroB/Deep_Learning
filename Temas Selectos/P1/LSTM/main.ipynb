{
 "cells": [
  {
   "cell_type": "code",
   "execution_count": 312,
   "metadata": {},
   "outputs": [],
   "source": [
    "import tensorflow as tf\n",
    "import nltk\n",
    "import tensorflow_datasets as tfds\n",
    "import matplotlib.pyplot as plt\n",
    "import numpy as np\n",
    "import pandas as pd\n",
    "import csv\n",
    "from sklearn.model_selection import train_test_split\n",
    "def plot_graphs(history, metric):\n",
    "  plt.plot(history.history[metric])\n",
    "  plt.plot(history.history['val_'+metric], '')\n",
    "  plt.xlabel(\"Epochs\")\n",
    "  plt.ylabel(metric)\n",
    "  plt.legend([metric, 'val_'+metric])\n",
    "  \n",
    "def put_label(stars):\n",
    "  if stars<=2:\n",
    "    return 0\n",
    "  elif stars==3:\n",
    "    return 1\n",
    "  else:\n",
    "    return 2\n",
    "  \n",
    "def leer_datos(path):\n",
    "    data = []\n",
    "    with open(path, 'r', encoding='utf-8') as archivo: \n",
    "        reader = csv.reader(archivo)\n",
    "        header = next(reader, None)  # Obtener la primera línea como encabezado\n",
    "        for linea in reader:\n",
    "            data.append(linea)\n",
    "\n",
    "    return header, data"
   ]
  },
  {
   "cell_type": "code",
   "execution_count": 313,
   "metadata": {},
   "outputs": [],
   "source": [
    "header,raw_dataset=leer_datos(\"/mnt/d/Descargas/Reviews/Reviews.csv\")"
   ]
  },
  {
   "cell_type": "code",
   "execution_count": 314,
   "metadata": {},
   "outputs": [
    {
     "name": "stdout",
     "output_type": "stream",
     "text": [
      "hay 568454 datos. Cada uno con 10 caracteristicas\n",
      "columnas:\n",
      "['Id', 'ProductId', 'UserId', 'ProfileName', 'HelpfulnessNumerator', 'HelpfulnessDenominator', 'Score', 'Time', 'Summary', 'Text'] \n",
      "\n",
      "['2', 'B00813GRG4', 'A1D87F6ZCVE5NK', 'dll pa', '0', '0', '1', '1346976000', 'Not as Advertised', 'Product arrived labeled as Jumbo Salted Peanuts...the peanuts were actually small sized unsalted. Not sure if this was an error or if the vendor intended to represent the product as \"Jumbo\".'] \n",
      "\n",
      "['3', 'B000LQOCH0', 'ABXLMWJIXXAIN', 'Natalia Corres \"Natalia Corres\"', '1', '1', '4', '1219017600', '\"Delight\" says it all', 'This is a confection that has been around a few centuries.  It is a light, pillowy citrus gelatin with nuts - in this case Filberts. And it is cut into tiny squares and then liberally coated with powdered sugar.  And it is a tiny mouthful of heaven.  Not too chewy, and very flavorful.  I highly recommend this yummy treat.  If you are familiar with the story of C.S. Lewis\\' \"The Lion, The Witch, and The Wardrobe\" - this is the treat that seduces Edmund into selling out his Brother and Sisters to the Witch.']\n"
     ]
    }
   ],
   "source": [
    "print(\"hay\",len(raw_dataset),\"datos. Cada uno con\",len(header),\"caracteristicas\")\n",
    "print(\"columnas:\")\n",
    "print(header,\"\\n\")\n",
    "print(raw_dataset[1], \"\\n\")\n",
    "print(raw_dataset[2])"
   ]
  },
  {
   "cell_type": "code",
   "execution_count": 315,
   "metadata": {},
   "outputs": [
    {
     "name": "stdout",
     "output_type": "stream",
     "text": [
      "['4', '\"Delight\" says it all', 'This is a confection that has been around a few centuries.  It is a light, pillowy citrus gelatin with nuts - in this case Filberts. And it is cut into tiny squares and then liberally coated with powdered sugar.  And it is a tiny mouthful of heaven.  Not too chewy, and very flavorful.  I highly recommend this yummy treat.  If you are familiar with the story of C.S. Lewis\\' \"The Lion, The Witch, and The Wardrobe\" - this is the treat that seduces Edmund into selling out his Brother and Sisters to the Witch.']\n"
     ]
    }
   ],
   "source": [
    "columnas = [6,8,9]\n",
    "reviews = [[row[i] for i in columnas] for row in raw_dataset]\n",
    "print(reviews[2])"
   ]
  },
  {
   "cell_type": "code",
   "execution_count": 316,
   "metadata": {},
   "outputs": [
    {
     "name": "stdout",
     "output_type": "stream",
     "text": [
      "[82037, 42640, 443777]\n"
     ]
    }
   ],
   "source": [
    "label_counter = [0,0,0]\n",
    "for i in range(len(reviews)):\n",
    "    if reviews[i][0] == '1' or reviews[i][0] == '2':\n",
    "        reviews[i][0] = 0\n",
    "        label_counter[0] += 1\n",
    "    elif reviews[i][0] == '3':\n",
    "        reviews[i][0] = 1\n",
    "        label_counter[1] += 1\n",
    "    else:\n",
    "        reviews[i][0] = 2\n",
    "        label_counter[2] += 1\n",
    "print(label_counter)"
   ]
  },
  {
   "cell_type": "code",
   "execution_count": 317,
   "metadata": {},
   "outputs": [
    {
     "name": "stdout",
     "output_type": "stream",
     "text": [
      "[0, \"If you're expecting a VIA-like coffee, forget it.\", \"This product is obviously aimed at those who are enjoying Starbuck's VIA coffee (which isn't bad). This, however, looks and tastes pretty much like any instant coffee. It's not microground like VIA. Just get a regular jar of this stuff if you like it.\"]\n"
     ]
    }
   ],
   "source": [
    "import random\n",
    "def randomize(lista):\n",
    "    randomized = lista[:]  \n",
    "    random.shuffle(randomized)\n",
    "    return randomized\n",
    "reviews = randomize(reviews)\n",
    "print(reviews[0])"
   ]
  },
  {
   "cell_type": "code",
   "execution_count": 318,
   "metadata": {},
   "outputs": [
    {
     "name": "stdout",
     "output_type": "stream",
     "text": [
      "[42640, 42640, 42640]\n",
      "127920\n"
     ]
    }
   ],
   "source": [
    "reviews_compressed = []\n",
    "label_check = [0,0,0]\n",
    "for i in range(len(reviews)):\n",
    "    if label_check[0] == label_check[1] == label_check[2] == 42640:\n",
    "        break\n",
    "    if reviews[i][0] == 0 and label_check[0] < 42640:\n",
    "        reviews_compressed.append(reviews[i])\n",
    "        label_check[0] += 1\n",
    "    elif reviews[i][0] == 1 and label_check[1] < 42640:\n",
    "        reviews_compressed.append(reviews[i])\n",
    "        label_check[1] += 1\n",
    "    elif reviews[i][0] == 2 and label_check[2] < 42640:\n",
    "        reviews_compressed.append(reviews[i])\n",
    "        label_check[2] += 1\n",
    "print(label_check)\n",
    "print(len(reviews_compressed))\n",
    "reviews = reviews_compressed"
   ]
  },
  {
   "cell_type": "code",
   "execution_count": 319,
   "metadata": {},
   "outputs": [],
   "source": [
    "X=[text[1] for text in reviews]\n",
    "y=[label[0] for label in reviews]\n",
    "X_train, X_test, y_train, y_test = train_test_split(X, y, test_size=0.2, random_state=42)\n"
   ]
  },
  {
   "cell_type": "code",
   "execution_count": 320,
   "metadata": {},
   "outputs": [
    {
     "name": "stdout",
     "output_type": "stream",
     "text": [
      "Saved my Cat\n",
      "don't stop chewing!\n",
      "Booda Bone Dog Treats, 9 Pack\n",
      "Amazing Service\n",
      "we will see\n"
     ]
    }
   ],
   "source": [
    "BUFFER_SIZE = 10000\n",
    "BATCH_SIZE = 64\n",
    "for i in range(5):\n",
    "    print(X_train[i])\n",
    "\n"
   ]
  },
  {
   "cell_type": "code",
   "execution_count": 321,
   "metadata": {},
   "outputs": [
    {
     "data": {
      "text/plain": [
       "array(['', '[UNK]', 'not', 'the', 'good', 'but', 'great', 'a', 'for',\n",
       "       'and', 'it', 'my', 'i', 'to', 'taste', 'is', 'this', 'of',\n",
       "       'coffee', 'too'], dtype='<U14')"
      ]
     },
     "execution_count": 321,
     "metadata": {},
     "output_type": "execute_result"
    }
   ],
   "source": [
    "\n",
    "\n",
    "vocab_size=1000\n",
    "encoder=tf.keras.layers.TextVectorization(max_tokens=vocab_size)\n",
    "\n",
    "encoder.adapt(X_train)\n",
    "\n",
    "vocab = np.array(encoder.get_vocabulary())\n",
    "vocab[:20]\n",
    "\n",
    "\n",
    "\n"
   ]
  },
  {
   "cell_type": "code",
   "execution_count": 322,
   "metadata": {},
   "outputs": [],
   "source": [
    "model=tf.keras.Sequential([\n",
    "    encoder,\n",
    "    tf.keras.layers.Embedding(\n",
    "        input_dim=len(encoder.get_vocabulary()),\n",
    "        output_dim=80,\n",
    "        mask_zero=True\n",
    "    ),\n",
    "    tf.keras.layers.Bidirectional(tf.keras.layers.LSTM(80)),\n",
    "    tf.keras.layers.Dense(80,activation='relu'),\n",
    "    tf.keras.layers.Dense(3,activation='softmax')#Solo hay 3 clases\n",
    "])"
   ]
  },
  {
   "cell_type": "code",
   "execution_count": 323,
   "metadata": {},
   "outputs": [
    {
     "name": "stdout",
     "output_type": "stream",
     "text": [
      "[False, True, True, True, True]\n"
     ]
    }
   ],
   "source": [
    "print([layer.supports_masking for layer in model.layers])\n"
   ]
  },
  {
   "cell_type": "code",
   "execution_count": 324,
   "metadata": {},
   "outputs": [
    {
     "name": "stdout",
     "output_type": "stream",
     "text": [
      "1/1 [==============================] - 1s 1s/step\n",
      "[0.33544964 0.33310992 0.3314405 ]\n"
     ]
    }
   ],
   "source": [
    "sample_text = ('The movie was cool. The animation and the graphics '\n",
    "               'were out of this world. I would recommend this movie.')\n",
    "predictions = model.predict(np.array([sample_text]))\n",
    "print(predictions[0])\n"
   ]
  },
  {
   "cell_type": "code",
   "execution_count": 325,
   "metadata": {},
   "outputs": [
    {
     "name": "stdout",
     "output_type": "stream",
     "text": [
      "1/1 [==============================] - 0s 82ms/step\n",
      "[0.3354499  0.33310992 0.33144018]\n"
     ]
    }
   ],
   "source": [
    "padding = \"the \" * 2000\n",
    "predictions = model.predict(np.array([sample_text, padding]))\n",
    "print(predictions[0])\n"
   ]
  },
  {
   "cell_type": "code",
   "execution_count": 326,
   "metadata": {},
   "outputs": [],
   "source": [
    "model.compile(loss= 'categorical_crossentropy',\n",
    "              optimizer=tf.keras.optimizers.Adam(1e-4),\n",
    "              metrics=['accuracy'])\n"
   ]
  },
  {
   "cell_type": "code",
   "execution_count": 327,
   "metadata": {},
   "outputs": [
    {
     "name": "stdout",
     "output_type": "stream",
     "text": [
      "Saved my Cat 2\n",
      "don't stop chewing! 1\n",
      "Booda Bone Dog Treats, 9 Pack 2\n",
      "Amazing Service 2\n",
      "we will see 1\n"
     ]
    }
   ],
   "source": [
    "\n",
    "for i in range (5):\n",
    "    print(X_train[i]+' '+str(y_train[i]))"
   ]
  },
  {
   "cell_type": "code",
   "execution_count": 328,
   "metadata": {},
   "outputs": [
    {
     "name": "stdout",
     "output_type": "stream",
     "text": [
      "[[0. 0. 1.]\n",
      " [0. 1. 0.]\n",
      " [0. 0. 1.]\n",
      " ...\n",
      " [0. 0. 1.]\n",
      " [0. 0. 1.]\n",
      " [0. 1. 0.]]\n"
     ]
    }
   ],
   "source": [
    "num_classes = 3  # Número de clases\n",
    "y_train = tf.keras.utils.to_categorical(y_train, num_classes)\n",
    "y_test=tf.keras.utils.to_categorical(y_test, num_classes)\n",
    "print(y_train)"
   ]
  },
  {
   "cell_type": "code",
   "execution_count": 329,
   "metadata": {},
   "outputs": [],
   "source": [
    "X_train=tf.constant(X_train, dtype=tf.string)\n",
    "X_test=tf.constant(X_test,dtype=tf.string)"
   ]
  },
  {
   "cell_type": "code",
   "execution_count": 330,
   "metadata": {},
   "outputs": [
    {
     "name": "stdout",
     "output_type": "stream",
     "text": [
      "tf.Tensor(b\"don't stop chewing!\", shape=(), dtype=string)\n",
      "[0. 1. 0.]\n"
     ]
    }
   ],
   "source": [
    "print(X_train[1])\n",
    "print(y_train[1])"
   ]
  },
  {
   "cell_type": "code",
   "execution_count": 331,
   "metadata": {},
   "outputs": [
    {
     "name": "stdout",
     "output_type": "stream",
     "text": [
      "[0. 1. 0.]\n",
      "tf.Tensor(b'we will see', shape=(), dtype=string)\n",
      "102336\n",
      "102336\n",
      "25584\n",
      "25584\n"
     ]
    }
   ],
   "source": [
    "print(y_train[4])\n",
    "print(X_train[4])\n",
    "print(len(X_train))\n",
    "print(len(y_train))\n",
    "print(len(X_test))\n",
    "print(len(y_test))"
   ]
  },
  {
   "cell_type": "code",
   "execution_count": 332,
   "metadata": {},
   "outputs": [
    {
     "name": "stdout",
     "output_type": "stream",
     "text": [
      "Epoch 1/18\n"
     ]
    },
    {
     "name": "stdout",
     "output_type": "stream",
     "text": [
      "3198/3198 [==============================] - 62s 18ms/step - loss: 0.8042 - accuracy: 0.6243 - val_loss: 0.7231 - val_accuracy: 0.6686\n",
      "Epoch 2/18\n",
      "3198/3198 [==============================] - 54s 17ms/step - loss: 0.7090 - accuracy: 0.6739 - val_loss: 0.7096 - val_accuracy: 0.6751\n",
      "Epoch 3/18\n",
      "3198/3198 [==============================] - 53s 16ms/step - loss: 0.6981 - accuracy: 0.6808 - val_loss: 0.7048 - val_accuracy: 0.6794\n",
      "Epoch 4/18\n",
      "3198/3198 [==============================] - 53s 17ms/step - loss: 0.6895 - accuracy: 0.6856 - val_loss: 0.6977 - val_accuracy: 0.6825\n",
      "Epoch 5/18\n",
      "3198/3198 [==============================] - 53s 17ms/step - loss: 0.6809 - accuracy: 0.6917 - val_loss: 0.6939 - val_accuracy: 0.6842\n",
      "Epoch 6/18\n",
      "3198/3198 [==============================] - 53s 17ms/step - loss: 0.6731 - accuracy: 0.6950 - val_loss: 0.6893 - val_accuracy: 0.6871\n",
      "Epoch 7/18\n",
      "3198/3198 [==============================] - 53s 17ms/step - loss: 0.6654 - accuracy: 0.6982 - val_loss: 0.6864 - val_accuracy: 0.6867\n",
      "Epoch 8/18\n",
      "3198/3198 [==============================] - 54s 17ms/step - loss: 0.6584 - accuracy: 0.7024 - val_loss: 0.6835 - val_accuracy: 0.6900\n",
      "Epoch 9/18\n",
      "3198/3198 [==============================] - 54s 17ms/step - loss: 0.6518 - accuracy: 0.7065 - val_loss: 0.6807 - val_accuracy: 0.6905\n",
      "Epoch 10/18\n",
      "3198/3198 [==============================] - 53s 17ms/step - loss: 0.6457 - accuracy: 0.7088 - val_loss: 0.6814 - val_accuracy: 0.6880\n",
      "Epoch 11/18\n",
      "3198/3198 [==============================] - 53s 17ms/step - loss: 0.6402 - accuracy: 0.7116 - val_loss: 0.6785 - val_accuracy: 0.6943\n",
      "Epoch 12/18\n",
      "3198/3198 [==============================] - 53s 17ms/step - loss: 0.6347 - accuracy: 0.7140 - val_loss: 0.6790 - val_accuracy: 0.6931\n",
      "Epoch 13/18\n",
      "3198/3198 [==============================] - 54s 17ms/step - loss: 0.6298 - accuracy: 0.7163 - val_loss: 0.6787 - val_accuracy: 0.6931\n",
      "Epoch 14/18\n",
      "3198/3198 [==============================] - 53s 17ms/step - loss: 0.6249 - accuracy: 0.7177 - val_loss: 0.6778 - val_accuracy: 0.6968\n",
      "Epoch 15/18\n",
      "3198/3198 [==============================] - 54s 17ms/step - loss: 0.6200 - accuracy: 0.7224 - val_loss: 0.6774 - val_accuracy: 0.6947\n",
      "Epoch 16/18\n",
      "3198/3198 [==============================] - 55s 17ms/step - loss: 0.6154 - accuracy: 0.7240 - val_loss: 0.6801 - val_accuracy: 0.6943\n",
      "Epoch 17/18\n",
      "3198/3198 [==============================] - 53s 17ms/step - loss: 0.6107 - accuracy: 0.7271 - val_loss: 0.6774 - val_accuracy: 0.6953\n",
      "Epoch 18/18\n",
      "3198/3198 [==============================] - 54s 17ms/step - loss: 0.6060 - accuracy: 0.7290 - val_loss: 0.6790 - val_accuracy: 0.6993\n"
     ]
    }
   ],
   "source": [
    "history = model.fit(X_train,y_train, epochs=18,\n",
    "                    validation_data=(X_test,y_test),\n",
    "                    validation_steps=30)\n"
   ]
  },
  {
   "cell_type": "code",
   "execution_count": 335,
   "metadata": {},
   "outputs": [
    {
     "name": "stdout",
     "output_type": "stream",
     "text": [
      "800/800 [==============================] - 6s 8ms/step - loss: 0.6790 - accuracy: 0.6993\n",
      "Test Loss: 0.6790053248405457\n",
      "Test Accuracy: 0.69926518201828\n"
     ]
    }
   ],
   "source": [
    "\n",
    "test_loss, test_acc = model.evaluate(X_test,y_test)\n",
    "\n",
    "print('Test Loss:', test_loss)\n",
    "print('Test Accuracy:', test_acc)"
   ]
  },
  {
   "cell_type": "code",
   "execution_count": 338,
   "metadata": {},
   "outputs": [
    {
     "data": {
      "text/plain": [
       "(0.0, 0.8141134530305862)"
      ]
     },
     "execution_count": 338,
     "metadata": {},
     "output_type": "execute_result"
    },
    {
     "data": {
      "image/png": "[encoded data removed]",
      "text/plain": [
       "<Figure size 1200x600 with 2 Axes>"
      ]
     },
     "metadata": {},
     "output_type": "display_data"
    }
   ],
   "source": [
    "plt.figure(figsize=(12, 6))\n",
    "plt.subplot(1, 2, 1)\n",
    "plot_graphs(history, 'accuracy')\n",
    "plt.ylim(None, 1)\n",
    "plt.subplot(1, 2, 2)\n",
    "plot_graphs(history, 'loss')\n",
    "plt.ylim(0, None)\n"
   ]
  },
  {
   "cell_type": "code",
   "execution_count": 339,
   "metadata": {},
   "outputs": [
    {
     "name": "stdout",
     "output_type": "stream",
     "text": [
      "1/1 [==============================] - 1s 1s/step\n",
      "[0.11331494 0.8742776  0.01240741]\n"
     ]
    }
   ],
   "source": [
    "sample_text = ('The movie was quite slow, i would reccomend it but i dont know who may like it')\n",
    "predictions = model.predict(np.array([sample_text]))\n",
    "print(predictions[0])"
   ]
  },
  {
   "cell_type": "code",
   "execution_count": 340,
   "metadata": {},
   "outputs": [
    {
     "name": "stdout",
     "output_type": "stream",
     "text": [
      "INFO:tensorflow:Assets written to: /mnt/d/Repositorios/Deep_Learning/Temas Selectos/P1/lstm_model/assets\n"
     ]
    },
    {
     "name": "stderr",
     "output_type": "stream",
     "text": [
      "INFO:tensorflow:Assets written to: /mnt/d/Repositorios/Deep_Learning/Temas Selectos/P1/lstm_model/assets\n"
     ]
    }
   ],
   "source": [
    "tf.saved_model.save(model, '/mnt/d/Repositorios/Deep_Learning/Temas Selectos/P1/lstm_model')\n"
   ]
  }
 ],
 "metadata": {
  "kernelspec": {
   "display_name": "Python (tf_gpu_env)",
   "language": "python",
   "name": "tf_gpu_env"
  }
 },
 "nbformat": 4,
 "nbformat_minor": 2
}
