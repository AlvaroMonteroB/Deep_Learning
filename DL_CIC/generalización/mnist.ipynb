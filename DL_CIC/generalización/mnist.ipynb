{
 "cells": [
  {
   "cell_type": "code",
   "execution_count": 1,
   "metadata": {},
   "outputs": [],
   "source": [
    "import torch\n",
    "import torchvision \n",
    "from torchvision import datasets, transforms\n",
    "from torch import nn\n",
    "from torch.utils.data import DataLoader, random_split, TensorDataset\n",
    "\n",
    "from collections import OrderedDict\n",
    "import matplotlib.pyplot as plt\n",
    "import matplotlib.image as mpimg\n",
    "import cv2\n",
    "from sklearn.model_selection import train_test_split"
   ]
  },
  {
   "cell_type": "code",
   "execution_count": 2,
   "metadata": {},
   "outputs": [],
   "source": [
    "def contar_parametros(model):\n",
    "    total_parametros = sum(p.numel() for p in model.parameters() if p.requires_grad)\n",
    "    return total_parametros"
   ]
  },
  {
   "cell_type": "code",
   "execution_count": 3,
   "metadata": {},
   "outputs": [
    {
     "name": "stdout",
     "output_type": "stream",
     "text": [
      "Using cuda device\n"
     ]
    }
   ],
   "source": [
    "device = (\n",
    "    \"cuda\"\n",
    "    if torch.cuda.is_available()\n",
    "    else \"mps\"\n",
    "    if torch.backends.mps.is_available()\n",
    "    else \"cpu\"\n",
    ")\n",
    "print(f\"Using {device} device\")"
   ]
  },
  {
   "cell_type": "code",
   "execution_count": 4,
   "metadata": {},
   "outputs": [],
   "source": [
    "import torchvision.datasets as datasets\n",
    "\n",
    "\n",
    "mnist_dataset=datasets.MNIST(root='./data',train=True,download=False,transform=transforms.ToTensor())\n",
    "mnist_testset=datasets.MNIST(root='./data',train=False,download=False,transform=transforms.ToTensor())"
   ]
  },
  {
   "cell_type": "code",
   "execution_count": 5,
   "metadata": {},
   "outputs": [
    {
     "name": "stdout",
     "output_type": "stream",
     "text": [
      "60000\n",
      "10000\n",
      "2\n"
     ]
    }
   ],
   "source": [
    "print(len(mnist_dataset))\n",
    "print(len(mnist_testset))\n",
    "print(len(mnist_dataset[0]))\n"
   ]
  },
  {
   "cell_type": "code",
   "execution_count": 6,
   "metadata": {},
   "outputs": [],
   "source": [
    "def show_loaded_images(images, titles):\n",
    "    num_images = len(images)\n",
    "    fig, axes = plt.subplots(1, num_images, figsize=(15, 5))  # Ajustar el tamaño de la figura según el número de imágenes\n",
    "    \n",
    "    for i in range(num_images):\n",
    "        # Convertir la imagen de BGR a RGB\n",
    "        image_rgb = cv2.cvtColor(images[i], cv2.COLOR_BGR2RGB)\n",
    "        \n",
    "        # Mostrar la imagen en la subtrama correspondiente\n",
    "        axes[i].imshow(image_rgb)\n",
    "        axes[i].axis('off')  # Desactivar los ejes\n",
    "        axes[i].set_title(titles[i])  # Establecer el título de la subtrama\n",
    "    \n",
    "    plt.show()"
   ]
  },
  {
   "cell_type": "code",
   "execution_count": 7,
   "metadata": {},
   "outputs": [
    {
     "name": "stdout",
     "output_type": "stream",
     "text": [
      "70000\n"
     ]
    }
   ],
   "source": [
    "#Mezclando datos\n",
    "Dataset=mnist_dataset+mnist_testset\n",
    "print(len(Dataset))"
   ]
  },
  {
   "cell_type": "code",
   "execution_count": 8,
   "metadata": {},
   "outputs": [],
   "source": [
    "train_size = int(0.8 * len(Dataset))  # 80% para entrenamiento\n",
    "test_size = len(Dataset) - train_size  # 20% para prueba\n",
    "train_dataset, test_dataset = random_split(Dataset, [train_size, test_size])\n",
    "\n",
    "# Dividir el conjunto de entrenamiento en entrenamiento (90% de 80%) y validación (10% de 80%)\n",
    "train_size = int(0.9 * len(train_dataset))  # 90% del conjunto de entrenamiento\n",
    "val_size = len(train_dataset) - train_size  # 10% para validación\n",
    "train_dataset, val_dataset = random_split(train_dataset, [train_size, val_size])"
   ]
  },
  {
   "cell_type": "code",
   "execution_count": 9,
   "metadata": {},
   "outputs": [
    {
     "name": "stdout",
     "output_type": "stream",
     "text": [
      "50400\n",
      "14000\n",
      "5600\n"
     ]
    }
   ],
   "source": [
    "print(len(train_dataset))\n",
    "print(len(test_dataset))\n",
    "print(len(val_dataset))"
   ]
  },
  {
   "cell_type": "code",
   "execution_count": 47,
   "metadata": {},
   "outputs": [],
   "source": [
    "class Neural_network(nn.Module):\n",
    "    def __init__(self, layers, neurons):\n",
    "        super(Neural_network, self).__init__()\n",
    "        \n",
    "        self.flatten = nn.Flatten()  # Para aplanar las imágenes de 28x28\n",
    "        \n",
    "        # Definir las capas básicas\n",
    "        basic_layers = []\n",
    "        \n",
    "        # Primera capa lineal\n",
    "        \n",
    "        if neurons<=1:\n",
    "            neurons=1\n",
    "        \n",
    "        basic_layers.append(('fc1', nn.Linear(28*28, neurons)))\n",
    "        #basic_layers.append(('relu1', nn.ReLU()))  # Aplicar ReLU después de la primera capa\n",
    "        \n",
    "        # Añadir capas ocultas adicionales si layers > 1\n",
    "        for i in range(2, layers+2):\n",
    "            basic_layers.append((f'fc{i+1}', nn.Linear(neurons, 10)))  # Capas adicionales\n",
    "            #basic_layers.append((f'relu{i+1}', nn.ReLU()))  # ReLU para cada capa oculta\n",
    "        \n",
    "        # Capa de salida con Softmax (normaliza las salidas)\n",
    "        basic_layers.append(('output', nn.Linear(neurons, 10)))  # Asumiendo una clasificación de 10 clases\n",
    "        basic_layers.append(('softmax', nn.Softmax(dim=1)))  # Softmax en la última capa para clasificación\n",
    "\n",
    "        # Crear la secuencia de capas con OrderedDict\n",
    "        self.linear_stack = nn.Sequential(OrderedDict(basic_layers))\n",
    "    \n",
    "    def forward(self,x):\n",
    "        x=self.flatten(x)\n",
    "        logits=self.linear_stack(x)\n",
    "        return logits"
   ]
  },
  {
   "cell_type": "code",
   "execution_count": 11,
   "metadata": {},
   "outputs": [],
   "source": [
    "def train_model(model, train_loader, val_loader, criterion, optimizer,epochs):\n",
    "    val_loss = 0.0\n",
    "    accuracy=0.0\n",
    "    accuracy_t=[]\n",
    "    val_loss_t=[]\n",
    "    \n",
    "    for epoch in range(epochs):\n",
    "        model.train()  # Modo de entrenamiento\n",
    "        running_loss = 0.0\n",
    "        \n",
    "        # Entrenamiento en conjunto de entrenamiento\n",
    "        for inputs, labels in train_loader:\n",
    "            inputs, labels = inputs.to(device), labels.to(device)\n",
    "            optimizer.zero_grad()  # Limpiar los gradientes acumulados\n",
    "            \n",
    "            # Forward pass\n",
    "            outputs = model(inputs)\n",
    "            loss = criterion(outputs, labels)\n",
    "            \n",
    "            # Backward pass y optimización\n",
    "            loss.backward()\n",
    "            optimizer.step()\n",
    "            \n",
    "            running_loss += loss.item()\n",
    "\n",
    "        # Evaluar el modelo en el conjunto de validación\n",
    "        model.eval()  # Modo de evaluación\n",
    "        val_loss = 0.0\n",
    "        correct = 0\n",
    "        total = 0\n",
    "\n",
    "        with torch.no_grad():  # No calcular gradientes durante validación\n",
    "            for inputs, labels in val_loader:\n",
    "                inputs, labels = inputs.to(device), labels.to(device)\n",
    "                outputs = model(inputs)\n",
    "                loss = criterion(outputs, labels)\n",
    "                val_loss += loss.item()\n",
    "\n",
    "                # Calcular las predicciones correctas\n",
    "                _, predicted = torch.max(outputs, 1)\n",
    "                total += labels.size(0)\n",
    "                correct += (predicted == labels).sum().item()\n",
    "\n",
    "        # Calcular las pérdidas promedio y precisión\n",
    "        running_loss /= len(train_loader)\n",
    "        val_loss /= len(val_loader)\n",
    "        accuracy = correct / total\n",
    "\n",
    "        print(f\"Epoch {epoch+1}/{epochs}, Loss: {running_loss:.4f}, Val Loss: {val_loss:.4f}, Accuracy: {accuracy:.4f}\")\n",
    "        accuracy_t.append(accuracy)\n",
    "        val_loss_t.append(val_loss)\n",
    "    return [running_loss,val_loss,accuracy],accuracy_t,val_loss_t"
   ]
  },
  {
   "cell_type": "code",
   "execution_count": 12,
   "metadata": {},
   "outputs": [],
   "source": [
    "models=[Neural_network(1,i*2) for i in range(0,16,4)]"
   ]
  },
  {
   "cell_type": "code",
   "execution_count": 13,
   "metadata": {},
   "outputs": [
    {
     "name": "stdout",
     "output_type": "stream",
     "text": [
      "805\n",
      "6370\n",
      "12730\n",
      "19090\n"
     ]
    }
   ],
   "source": [
    "params=[]\n",
    "for model in models:\n",
    "    print(contar_parametros(model))\n",
    "    params.append(contar_parametros(model))"
   ]
  },
  {
   "cell_type": "code",
   "execution_count": 14,
   "metadata": {},
   "outputs": [
    {
     "data": {
      "text/plain": [
       "==========================================================================================\n",
       "Layer (type:depth-idx)                   Output Shape              Param #\n",
       "==========================================================================================\n",
       "Neural_network                           [1, 10]                   --\n",
       "├─Flatten: 1-1                           [1, 784]                  --\n",
       "├─Sequential: 1-2                        [1, 10]                   --\n",
       "│    └─Linear: 2-1                       [1, 8]                    6,280\n",
       "│    └─Linear: 2-2                       [1, 10]                   90\n",
       "│    └─Softmax: 2-3                      [1, 10]                   --\n",
       "==========================================================================================\n",
       "Total params: 6,370\n",
       "Trainable params: 6,370\n",
       "Non-trainable params: 0\n",
       "Total mult-adds (M): 0.01\n",
       "==========================================================================================\n",
       "Input size (MB): 0.00\n",
       "Forward/backward pass size (MB): 0.00\n",
       "Params size (MB): 0.03\n",
       "Estimated Total Size (MB): 0.03\n",
       "=========================================================================================="
      ]
     },
     "execution_count": 14,
     "metadata": {},
     "output_type": "execute_result"
    }
   ],
   "source": [
    "from torchinfo import summary\n",
    "\n",
    "summary(models[1], input_size=(1,28,28))"
   ]
  },
  {
   "cell_type": "code",
   "execution_count": 15,
   "metadata": {},
   "outputs": [],
   "source": [
    "train_loader = DataLoader(train_dataset, batch_size=1000, shuffle=True)\n",
    "val_loader = DataLoader(val_dataset, batch_size=1000)\n",
    "test_loader = DataLoader(test_dataset, batch_size=1000)\n"
   ]
  },
  {
   "cell_type": "code",
   "execution_count": 16,
   "metadata": {},
   "outputs": [
    {
     "name": "stdout",
     "output_type": "stream",
     "text": [
      "Epoch 1/50, Loss: 2.2841, Val Loss: 2.2526, Accuracy: 0.2580\n",
      "Epoch 2/50, Loss: 2.2320, Val Loss: 2.2174, Accuracy: 0.2629\n",
      "Epoch 3/50, Loss: 2.2092, Val Loss: 2.2009, Accuracy: 0.2627\n",
      "Epoch 4/50, Loss: 2.1964, Val Loss: 2.1911, Accuracy: 0.2652\n",
      "Epoch 5/50, Loss: 2.1889, Val Loss: 2.1851, Accuracy: 0.2712\n",
      "Epoch 6/50, Loss: 2.1837, Val Loss: 2.1809, Accuracy: 0.2759\n",
      "Epoch 7/50, Loss: 2.1801, Val Loss: 2.1775, Accuracy: 0.2789\n",
      "Epoch 8/50, Loss: 2.1767, Val Loss: 2.1746, Accuracy: 0.2818\n",
      "Epoch 9/50, Loss: 2.1742, Val Loss: 2.1718, Accuracy: 0.2843\n",
      "Epoch 10/50, Loss: 2.1713, Val Loss: 2.1692, Accuracy: 0.2854\n",
      "Epoch 11/50, Loss: 2.1683, Val Loss: 2.1666, Accuracy: 0.2855\n",
      "Epoch 12/50, Loss: 2.1651, Val Loss: 2.1640, Accuracy: 0.2855\n",
      "Epoch 13/50, Loss: 2.1621, Val Loss: 2.1612, Accuracy: 0.2846\n",
      "Epoch 14/50, Loss: 2.1589, Val Loss: 2.1584, Accuracy: 0.2895\n",
      "Epoch 15/50, Loss: 2.1556, Val Loss: 2.1557, Accuracy: 0.2938\n",
      "Epoch 16/50, Loss: 2.1526, Val Loss: 2.1530, Accuracy: 0.2977\n",
      "Epoch 17/50, Loss: 2.1497, Val Loss: 2.1504, Accuracy: 0.3005\n",
      "Epoch 18/50, Loss: 2.1470, Val Loss: 2.1479, Accuracy: 0.3032\n",
      "Epoch 19/50, Loss: 2.1441, Val Loss: 2.1456, Accuracy: 0.3041\n",
      "Epoch 20/50, Loss: 2.1415, Val Loss: 2.1434, Accuracy: 0.3093\n",
      "Epoch 21/50, Loss: 2.1395, Val Loss: 2.1413, Accuracy: 0.3102\n",
      "Epoch 22/50, Loss: 2.1372, Val Loss: 2.1392, Accuracy: 0.3132\n",
      "Epoch 23/50, Loss: 2.1348, Val Loss: 2.1375, Accuracy: 0.3146\n",
      "Epoch 24/50, Loss: 2.1331, Val Loss: 2.1355, Accuracy: 0.3177\n",
      "Epoch 25/50, Loss: 2.1310, Val Loss: 2.1338, Accuracy: 0.3177\n",
      "Epoch 26/50, Loss: 2.1289, Val Loss: 2.1322, Accuracy: 0.3198\n",
      "Epoch 27/50, Loss: 2.1270, Val Loss: 2.1308, Accuracy: 0.3212\n",
      "Epoch 28/50, Loss: 2.1254, Val Loss: 2.1293, Accuracy: 0.3205\n",
      "Epoch 29/50, Loss: 2.1240, Val Loss: 2.1280, Accuracy: 0.3237\n",
      "Epoch 30/50, Loss: 2.1225, Val Loss: 2.1268, Accuracy: 0.3293\n",
      "Epoch 31/50, Loss: 2.1214, Val Loss: 2.1257, Accuracy: 0.3357\n",
      "Epoch 32/50, Loss: 2.1201, Val Loss: 2.1246, Accuracy: 0.3361\n",
      "Epoch 33/50, Loss: 2.1188, Val Loss: 2.1238, Accuracy: 0.3348\n",
      "Epoch 34/50, Loss: 2.1179, Val Loss: 2.1226, Accuracy: 0.3379\n",
      "Epoch 35/50, Loss: 2.1168, Val Loss: 2.1218, Accuracy: 0.3409\n",
      "Epoch 36/50, Loss: 2.1159, Val Loss: 2.1209, Accuracy: 0.3430\n",
      "Epoch 37/50, Loss: 2.1149, Val Loss: 2.1201, Accuracy: 0.3436\n",
      "Epoch 38/50, Loss: 2.1136, Val Loss: 2.1193, Accuracy: 0.3439\n",
      "Epoch 39/50, Loss: 2.1131, Val Loss: 2.1186, Accuracy: 0.3441\n",
      "Epoch 40/50, Loss: 2.1123, Val Loss: 2.1178, Accuracy: 0.3445\n",
      "Epoch 41/50, Loss: 2.1119, Val Loss: 2.1171, Accuracy: 0.3446\n",
      "Epoch 42/50, Loss: 2.1109, Val Loss: 2.1165, Accuracy: 0.3450\n",
      "Epoch 43/50, Loss: 2.1104, Val Loss: 2.1158, Accuracy: 0.3479\n",
      "Epoch 44/50, Loss: 2.1093, Val Loss: 2.1152, Accuracy: 0.3471\n",
      "Epoch 45/50, Loss: 2.1088, Val Loss: 2.1146, Accuracy: 0.3477\n",
      "Epoch 46/50, Loss: 2.1081, Val Loss: 2.1141, Accuracy: 0.3505\n",
      "Epoch 47/50, Loss: 2.1070, Val Loss: 2.1134, Accuracy: 0.3507\n",
      "Epoch 48/50, Loss: 2.1065, Val Loss: 2.1128, Accuracy: 0.3502\n",
      "Epoch 49/50, Loss: 2.1061, Val Loss: 2.1123, Accuracy: 0.3509\n",
      "Epoch 50/50, Loss: 2.1058, Val Loss: 2.1117, Accuracy: 0.3507\n",
      "[2.1058364101484712, 2.1117172241210938, 0.3507142857142857]\n",
      "Epoch 1/50, Loss: 2.2012, Val Loss: 2.0877, Accuracy: 0.4707\n",
      "Epoch 2/50, Loss: 1.9763, Val Loss: 1.8836, Accuracy: 0.6711\n",
      "Epoch 3/50, Loss: 1.8285, Val Loss: 1.7943, Accuracy: 0.7214\n",
      "Epoch 4/50, Loss: 1.7720, Val Loss: 1.7597, Accuracy: 0.7346\n",
      "Epoch 5/50, Loss: 1.7451, Val Loss: 1.7354, Accuracy: 0.7464\n",
      "Epoch 6/50, Loss: 1.7121, Val Loss: 1.6935, Accuracy: 0.8043\n",
      "Epoch 7/50, Loss: 1.6835, Val Loss: 1.6741, Accuracy: 0.8145\n",
      "Epoch 8/50, Loss: 1.6686, Val Loss: 1.6628, Accuracy: 0.8186\n",
      "Epoch 9/50, Loss: 1.6569, Val Loss: 1.6476, Accuracy: 0.8266\n",
      "Epoch 10/50, Loss: 1.6259, Val Loss: 1.6122, Accuracy: 0.8814\n",
      "Epoch 11/50, Loss: 1.6023, Val Loss: 1.5974, Accuracy: 0.8923\n",
      "Epoch 12/50, Loss: 1.5904, Val Loss: 1.5882, Accuracy: 0.8975\n",
      "Epoch 13/50, Loss: 1.5825, Val Loss: 1.5812, Accuracy: 0.9018\n",
      "Epoch 14/50, Loss: 1.5763, Val Loss: 1.5761, Accuracy: 0.9048\n",
      "Epoch 15/50, Loss: 1.5716, Val Loss: 1.5718, Accuracy: 0.9071\n",
      "Epoch 16/50, Loss: 1.5679, Val Loss: 1.5684, Accuracy: 0.9102\n",
      "Epoch 17/50, Loss: 1.5644, Val Loss: 1.5655, Accuracy: 0.9114\n",
      "Epoch 18/50, Loss: 1.5618, Val Loss: 1.5628, Accuracy: 0.9125\n",
      "Epoch 19/50, Loss: 1.5594, Val Loss: 1.5605, Accuracy: 0.9141\n",
      "Epoch 20/50, Loss: 1.5571, Val Loss: 1.5587, Accuracy: 0.9150\n",
      "Epoch 21/50, Loss: 1.5553, Val Loss: 1.5570, Accuracy: 0.9157\n",
      "Epoch 22/50, Loss: 1.5533, Val Loss: 1.5556, Accuracy: 0.9161\n",
      "Epoch 23/50, Loss: 1.5518, Val Loss: 1.5541, Accuracy: 0.9164\n",
      "Epoch 24/50, Loss: 1.5504, Val Loss: 1.5533, Accuracy: 0.9175\n",
      "Epoch 25/50, Loss: 1.5496, Val Loss: 1.5520, Accuracy: 0.9170\n",
      "Epoch 26/50, Loss: 1.5483, Val Loss: 1.5513, Accuracy: 0.9184\n",
      "Epoch 27/50, Loss: 1.5470, Val Loss: 1.5504, Accuracy: 0.9171\n",
      "Epoch 28/50, Loss: 1.5460, Val Loss: 1.5493, Accuracy: 0.9182\n",
      "Epoch 29/50, Loss: 1.5451, Val Loss: 1.5491, Accuracy: 0.9186\n",
      "Epoch 30/50, Loss: 1.5441, Val Loss: 1.5481, Accuracy: 0.9191\n",
      "Epoch 31/50, Loss: 1.5431, Val Loss: 1.5476, Accuracy: 0.9204\n",
      "Epoch 32/50, Loss: 1.5424, Val Loss: 1.5468, Accuracy: 0.9196\n",
      "Epoch 33/50, Loss: 1.5417, Val Loss: 1.5467, Accuracy: 0.9200\n",
      "Epoch 34/50, Loss: 1.5409, Val Loss: 1.5459, Accuracy: 0.9207\n",
      "Epoch 35/50, Loss: 1.5403, Val Loss: 1.5454, Accuracy: 0.9213\n",
      "Epoch 36/50, Loss: 1.5395, Val Loss: 1.5454, Accuracy: 0.9209\n",
      "Epoch 37/50, Loss: 1.5392, Val Loss: 1.5446, Accuracy: 0.9216\n",
      "Epoch 38/50, Loss: 1.5384, Val Loss: 1.5445, Accuracy: 0.9213\n",
      "Epoch 39/50, Loss: 1.5382, Val Loss: 1.5440, Accuracy: 0.9205\n",
      "Epoch 40/50, Loss: 1.5374, Val Loss: 1.5436, Accuracy: 0.9213\n",
      "Epoch 41/50, Loss: 1.5367, Val Loss: 1.5434, Accuracy: 0.9220\n",
      "Epoch 42/50, Loss: 1.5364, Val Loss: 1.5430, Accuracy: 0.9218\n",
      "Epoch 43/50, Loss: 1.5361, Val Loss: 1.5425, Accuracy: 0.9230\n",
      "Epoch 44/50, Loss: 1.5356, Val Loss: 1.5425, Accuracy: 0.9223\n",
      "Epoch 45/50, Loss: 1.5348, Val Loss: 1.5420, Accuracy: 0.9232\n",
      "Epoch 46/50, Loss: 1.5347, Val Loss: 1.5422, Accuracy: 0.9232\n",
      "Epoch 47/50, Loss: 1.5342, Val Loss: 1.5417, Accuracy: 0.9220\n",
      "Epoch 48/50, Loss: 1.5339, Val Loss: 1.5415, Accuracy: 0.9223\n",
      "Epoch 49/50, Loss: 1.5334, Val Loss: 1.5411, Accuracy: 0.9229\n",
      "Epoch 50/50, Loss: 1.5330, Val Loss: 1.5410, Accuracy: 0.9230\n",
      "[1.532984679820491, 1.5409655570983887, 0.9230357142857143]\n",
      "Epoch 1/50, Loss: 2.1512, Val Loss: 1.9598, Accuracy: 0.6786\n",
      "Epoch 2/50, Loss: 1.8347, Val Loss: 1.7406, Accuracy: 0.7914\n",
      "Epoch 3/50, Loss: 1.6908, Val Loss: 1.6521, Accuracy: 0.8732\n",
      "Epoch 4/50, Loss: 1.6341, Val Loss: 1.6172, Accuracy: 0.8898\n",
      "Epoch 5/50, Loss: 1.6074, Val Loss: 1.5977, Accuracy: 0.8986\n",
      "Epoch 6/50, Loss: 1.5914, Val Loss: 1.5856, Accuracy: 0.9052\n",
      "Epoch 7/50, Loss: 1.5810, Val Loss: 1.5769, Accuracy: 0.9104\n",
      "Epoch 8/50, Loss: 1.5732, Val Loss: 1.5711, Accuracy: 0.9111\n",
      "Epoch 9/50, Loss: 1.5674, Val Loss: 1.5663, Accuracy: 0.9134\n",
      "Epoch 10/50, Loss: 1.5631, Val Loss: 1.5629, Accuracy: 0.9152\n",
      "Epoch 11/50, Loss: 1.5594, Val Loss: 1.5600, Accuracy: 0.9175\n",
      "Epoch 12/50, Loss: 1.5564, Val Loss: 1.5573, Accuracy: 0.9173\n",
      "Epoch 13/50, Loss: 1.5540, Val Loss: 1.5553, Accuracy: 0.9196\n",
      "Epoch 14/50, Loss: 1.5516, Val Loss: 1.5535, Accuracy: 0.9211\n",
      "Epoch 15/50, Loss: 1.5496, Val Loss: 1.5518, Accuracy: 0.9218\n",
      "Epoch 16/50, Loss: 1.5478, Val Loss: 1.5503, Accuracy: 0.9213\n",
      "Epoch 17/50, Loss: 1.5462, Val Loss: 1.5490, Accuracy: 0.9234\n",
      "Epoch 18/50, Loss: 1.5446, Val Loss: 1.5483, Accuracy: 0.9229\n",
      "Epoch 19/50, Loss: 1.5434, Val Loss: 1.5469, Accuracy: 0.9237\n",
      "Epoch 20/50, Loss: 1.5422, Val Loss: 1.5462, Accuracy: 0.9237\n",
      "Epoch 21/50, Loss: 1.5408, Val Loss: 1.5450, Accuracy: 0.9254\n",
      "Epoch 22/50, Loss: 1.5400, Val Loss: 1.5443, Accuracy: 0.9255\n",
      "Epoch 23/50, Loss: 1.5391, Val Loss: 1.5436, Accuracy: 0.9263\n",
      "Epoch 24/50, Loss: 1.5382, Val Loss: 1.5431, Accuracy: 0.9259\n",
      "Epoch 25/50, Loss: 1.5371, Val Loss: 1.5424, Accuracy: 0.9259\n",
      "Epoch 26/50, Loss: 1.5365, Val Loss: 1.5422, Accuracy: 0.9254\n",
      "Epoch 27/50, Loss: 1.5357, Val Loss: 1.5416, Accuracy: 0.9254\n",
      "Epoch 28/50, Loss: 1.5349, Val Loss: 1.5413, Accuracy: 0.9264\n",
      "Epoch 29/50, Loss: 1.5343, Val Loss: 1.5408, Accuracy: 0.9263\n",
      "Epoch 30/50, Loss: 1.5338, Val Loss: 1.5407, Accuracy: 0.9275\n",
      "Epoch 31/50, Loss: 1.5333, Val Loss: 1.5401, Accuracy: 0.9266\n",
      "Epoch 32/50, Loss: 1.5324, Val Loss: 1.5395, Accuracy: 0.9280\n",
      "Epoch 33/50, Loss: 1.5321, Val Loss: 1.5393, Accuracy: 0.9284\n",
      "Epoch 34/50, Loss: 1.5314, Val Loss: 1.5384, Accuracy: 0.9291\n",
      "Epoch 35/50, Loss: 1.5309, Val Loss: 1.5384, Accuracy: 0.9287\n",
      "Epoch 36/50, Loss: 1.5304, Val Loss: 1.5384, Accuracy: 0.9282\n",
      "Epoch 37/50, Loss: 1.5298, Val Loss: 1.5378, Accuracy: 0.9280\n",
      "Epoch 38/50, Loss: 1.5294, Val Loss: 1.5378, Accuracy: 0.9284\n",
      "Epoch 39/50, Loss: 1.5293, Val Loss: 1.5372, Accuracy: 0.9286\n",
      "Epoch 40/50, Loss: 1.5285, Val Loss: 1.5373, Accuracy: 0.9289\n",
      "Epoch 41/50, Loss: 1.5284, Val Loss: 1.5370, Accuracy: 0.9293\n",
      "Epoch 42/50, Loss: 1.5279, Val Loss: 1.5376, Accuracy: 0.9275\n",
      "Epoch 43/50, Loss: 1.5275, Val Loss: 1.5368, Accuracy: 0.9280\n",
      "Epoch 44/50, Loss: 1.5270, Val Loss: 1.5367, Accuracy: 0.9271\n",
      "Epoch 45/50, Loss: 1.5270, Val Loss: 1.5363, Accuracy: 0.9279\n",
      "Epoch 46/50, Loss: 1.5263, Val Loss: 1.5363, Accuracy: 0.9280\n",
      "Epoch 47/50, Loss: 1.5261, Val Loss: 1.5364, Accuracy: 0.9277\n",
      "Epoch 48/50, Loss: 1.5256, Val Loss: 1.5362, Accuracy: 0.9284\n",
      "Epoch 49/50, Loss: 1.5254, Val Loss: 1.5358, Accuracy: 0.9273\n",
      "Epoch 50/50, Loss: 1.5252, Val Loss: 1.5355, Accuracy: 0.9277\n",
      "[1.5252230214137656, 1.5355114142100017, 0.9276785714285715]\n",
      "Epoch 1/50, Loss: 2.1111, Val Loss: 1.9063, Accuracy: 0.6352\n",
      "Epoch 2/50, Loss: 1.8274, Val Loss: 1.7680, Accuracy: 0.7329\n",
      "Epoch 3/50, Loss: 1.7055, Val Loss: 1.6551, Accuracy: 0.8630\n",
      "Epoch 4/50, Loss: 1.6278, Val Loss: 1.6091, Accuracy: 0.8886\n",
      "Epoch 5/50, Loss: 1.5974, Val Loss: 1.5888, Accuracy: 0.9002\n",
      "Epoch 6/50, Loss: 1.5821, Val Loss: 1.5770, Accuracy: 0.9100\n",
      "Epoch 7/50, Loss: 1.5724, Val Loss: 1.5700, Accuracy: 0.9130\n",
      "Epoch 8/50, Loss: 1.5660, Val Loss: 1.5641, Accuracy: 0.9146\n",
      "Epoch 9/50, Loss: 1.5605, Val Loss: 1.5598, Accuracy: 0.9180\n",
      "Epoch 10/50, Loss: 1.5568, Val Loss: 1.5568, Accuracy: 0.9193\n",
      "Epoch 11/50, Loss: 1.5535, Val Loss: 1.5540, Accuracy: 0.9205\n",
      "Epoch 12/50, Loss: 1.5508, Val Loss: 1.5523, Accuracy: 0.9211\n",
      "Epoch 13/50, Loss: 1.5485, Val Loss: 1.5503, Accuracy: 0.9211\n",
      "Epoch 14/50, Loss: 1.5465, Val Loss: 1.5488, Accuracy: 0.9214\n",
      "Epoch 15/50, Loss: 1.5446, Val Loss: 1.5473, Accuracy: 0.9214\n",
      "Epoch 16/50, Loss: 1.5431, Val Loss: 1.5464, Accuracy: 0.9220\n",
      "Epoch 17/50, Loss: 1.5417, Val Loss: 1.5452, Accuracy: 0.9230\n",
      "Epoch 18/50, Loss: 1.5406, Val Loss: 1.5448, Accuracy: 0.9241\n",
      "Epoch 19/50, Loss: 1.5395, Val Loss: 1.5437, Accuracy: 0.9239\n",
      "Epoch 20/50, Loss: 1.5383, Val Loss: 1.5428, Accuracy: 0.9255\n",
      "Epoch 21/50, Loss: 1.5374, Val Loss: 1.5425, Accuracy: 0.9261\n",
      "Epoch 22/50, Loss: 1.5365, Val Loss: 1.5420, Accuracy: 0.9252\n",
      "Epoch 23/50, Loss: 1.5355, Val Loss: 1.5413, Accuracy: 0.9250\n",
      "Epoch 24/50, Loss: 1.5349, Val Loss: 1.5402, Accuracy: 0.9273\n",
      "Epoch 25/50, Loss: 1.5338, Val Loss: 1.5401, Accuracy: 0.9259\n",
      "Epoch 26/50, Loss: 1.5332, Val Loss: 1.5399, Accuracy: 0.9264\n",
      "Epoch 27/50, Loss: 1.5327, Val Loss: 1.5391, Accuracy: 0.9271\n",
      "Epoch 28/50, Loss: 1.5320, Val Loss: 1.5388, Accuracy: 0.9270\n",
      "Epoch 29/50, Loss: 1.5312, Val Loss: 1.5391, Accuracy: 0.9257\n",
      "Epoch 30/50, Loss: 1.5306, Val Loss: 1.5382, Accuracy: 0.9266\n",
      "Epoch 31/50, Loss: 1.5302, Val Loss: 1.5381, Accuracy: 0.9279\n",
      "Epoch 32/50, Loss: 1.5295, Val Loss: 1.5376, Accuracy: 0.9279\n",
      "Epoch 33/50, Loss: 1.5290, Val Loss: 1.5378, Accuracy: 0.9275\n",
      "Epoch 34/50, Loss: 1.5288, Val Loss: 1.5369, Accuracy: 0.9282\n",
      "Epoch 35/50, Loss: 1.5283, Val Loss: 1.5373, Accuracy: 0.9271\n",
      "Epoch 36/50, Loss: 1.5279, Val Loss: 1.5367, Accuracy: 0.9277\n",
      "Epoch 37/50, Loss: 1.5273, Val Loss: 1.5375, Accuracy: 0.9270\n",
      "Epoch 38/50, Loss: 1.5268, Val Loss: 1.5367, Accuracy: 0.9277\n",
      "Epoch 39/50, Loss: 1.5264, Val Loss: 1.5363, Accuracy: 0.9280\n",
      "Epoch 40/50, Loss: 1.5259, Val Loss: 1.5362, Accuracy: 0.9284\n",
      "Epoch 41/50, Loss: 1.5256, Val Loss: 1.5361, Accuracy: 0.9289\n",
      "Epoch 42/50, Loss: 1.5255, Val Loss: 1.5357, Accuracy: 0.9286\n",
      "Epoch 43/50, Loss: 1.5249, Val Loss: 1.5358, Accuracy: 0.9282\n",
      "Epoch 44/50, Loss: 1.5244, Val Loss: 1.5357, Accuracy: 0.9279\n",
      "Epoch 45/50, Loss: 1.5239, Val Loss: 1.5362, Accuracy: 0.9277\n",
      "Epoch 46/50, Loss: 1.5238, Val Loss: 1.5352, Accuracy: 0.9282\n",
      "Epoch 47/50, Loss: 1.5235, Val Loss: 1.5355, Accuracy: 0.9275\n",
      "Epoch 48/50, Loss: 1.5234, Val Loss: 1.5353, Accuracy: 0.9280\n",
      "Epoch 49/50, Loss: 1.5233, Val Loss: 1.5353, Accuracy: 0.9286\n",
      "Epoch 50/50, Loss: 1.5226, Val Loss: 1.5353, Accuracy: 0.9271\n",
      "[1.522617349437639, 1.5353114008903503, 0.9271428571428572]\n"
     ]
    }
   ],
   "source": [
    "from copy import deepcopy\n",
    "model_stats=[]\n",
    "acc_models=[]\n",
    "loss_models=[]\n",
    "for model in models: \n",
    "    model=model.to(device)\n",
    "    criterion = nn.CrossEntropyLoss() \n",
    "    optimizer = torch.optim.Adam(model.parameters(), lr=0.001)\n",
    "    aux_stats,acc_hist,loss_hist=train_model(model,train_loader,val_loader,criterion,optimizer,epochs=50)\n",
    "    acc_models.append(deepcopy(acc_hist))\n",
    "    loss_models.append(deepcopy(loss_hist))\n",
    "    model_stats.append(deepcopy(aux_stats))\n",
    "    print(aux_stats)"
   ]
  },
  {
   "cell_type": "code",
   "execution_count": 17,
   "metadata": {},
   "outputs": [
    {
     "name": "stdout",
     "output_type": "stream",
     "text": [
      "[2.1058364101484712, 2.1117172241210938, 0.3507142857142857]\n",
      "[1.532984679820491, 1.5409655570983887, 0.9230357142857143]\n",
      "[1.5252230214137656, 1.5355114142100017, 0.9276785714285715]\n",
      "[1.522617349437639, 1.5353114008903503, 0.9271428571428572]\n"
     ]
    }
   ],
   "source": [
    "for stat in model_stats:\n",
    "    print(stat)"
   ]
  },
  {
   "cell_type": "code",
   "execution_count": 26,
   "metadata": {},
   "outputs": [],
   "source": [
    "acc=[i[2] for i in model_stats]\n",
    "err=[i[-1] for i in loss_models]"
   ]
  },
  {
   "cell_type": "code",
   "execution_count": 22,
   "metadata": {},
   "outputs": [
    {
     "data": {
      "image/png": "[encoded data removed]",
      "text/plain": [
       "<Figure size 640x480 with 1 Axes>"
      ]
     },
     "metadata": {},
     "output_type": "display_data"
    }
   ],
   "source": [
    "plt.plot(params,acc,marker='o')\n",
    "plt.xlabel('Parametros')\n",
    "plt.ylabel('Accuracy')\n",
    "\n",
    "# Añadir un título\n",
    "plt.title('Modelo de una sola capa')\n",
    "\n",
    "# Mostrar la gráfica\n",
    "plt.show()"
   ]
  },
  {
   "cell_type": "code",
   "execution_count": 27,
   "metadata": {},
   "outputs": [
    {
     "data": {
      "image/png": "[encoded data removed]",
      "text/plain": [
       "<Figure size 640x480 with 1 Axes>"
      ]
     },
     "metadata": {},
     "output_type": "display_data"
    }
   ],
   "source": [
    "plt.plot(params,err,marker='o')\n",
    "plt.xlabel('Parametros')\n",
    "plt.ylabel('Error')\n",
    "\n",
    "# Añadir un título\n",
    "plt.title('Modelo de una sola capa')\n",
    "\n",
    "# Mostrar la gráfica\n",
    "plt.show()"
   ]
  },
  {
   "cell_type": "code",
   "execution_count": 24,
   "metadata": {},
   "outputs": [],
   "source": [
    "neuronas=[i*2 for i in range(0,16, 4)]"
   ]
  },
  {
   "cell_type": "code",
   "execution_count": 25,
   "metadata": {},
   "outputs": [
    {
     "data": {
      "image/png": "[encoded data removed]",
      "text/plain": [
       "<Figure size 640x480 with 1 Axes>"
      ]
     },
     "metadata": {},
     "output_type": "display_data"
    }
   ],
   "source": [
    "plt.plot(neuronas,acc,marker='o')\n",
    "plt.xlabel('Neuronas')\n",
    "plt.ylabel('Accuracy')\n",
    "\n",
    "# Añadir un título\n",
    "plt.title('Modelo de una sola capa')\n",
    "\n",
    "# Mostrar la gráfica\n",
    "plt.show()"
   ]
  },
  {
   "cell_type": "markdown",
   "metadata": {},
   "source": [
    "## Redes de varias capas"
   ]
  },
  {
   "cell_type": "code",
   "execution_count": 48,
   "metadata": {},
   "outputs": [],
   "source": [
    "models=[Neural_network(i,i*2) for i in range(0,16,4)]"
   ]
  },
  {
   "cell_type": "code",
   "execution_count": 49,
   "metadata": {},
   "outputs": [
    {
     "name": "stdout",
     "output_type": "stream",
     "text": [
      "805\n",
      "6730\n",
      "14090\n",
      "22090\n"
     ]
    }
   ],
   "source": [
    "params=[]\n",
    "for model in models:\n",
    "    print(contar_parametros(model))\n",
    "    params.append(contar_parametros(model))"
   ]
  },
  {
   "cell_type": "code",
   "execution_count": 51,
   "metadata": {},
   "outputs": [
    {
     "ename": "RuntimeError",
     "evalue": "Failed to run torchinfo. See above stack traces for more details. Executed layers up to: [Flatten: 1, Linear: 2, Linear: 2]",
     "output_type": "error",
     "traceback": [
      "\u001b[0;31m---------------------------------------------------------------------------\u001b[0m",
      "\u001b[0;31mRuntimeError\u001b[0m                              Traceback (most recent call last)",
      "File \u001b[0;32m~/anaconda3/envs/torch_gpu/lib/python3.9/site-packages/torchinfo/torchinfo.py:295\u001b[0m, in \u001b[0;36mforward_pass\u001b[0;34m(model, x, batch_dim, cache_forward_pass, device, mode, **kwargs)\u001b[0m\n\u001b[1;32m    294\u001b[0m \u001b[38;5;28;01mif\u001b[39;00m \u001b[38;5;28misinstance\u001b[39m(x, (\u001b[38;5;28mlist\u001b[39m, \u001b[38;5;28mtuple\u001b[39m)):\n\u001b[0;32m--> 295\u001b[0m     _ \u001b[38;5;241m=\u001b[39m \u001b[43mmodel\u001b[49m\u001b[43m(\u001b[49m\u001b[38;5;241;43m*\u001b[39;49m\u001b[43mx\u001b[49m\u001b[43m,\u001b[49m\u001b[43m \u001b[49m\u001b[38;5;241;43m*\u001b[39;49m\u001b[38;5;241;43m*\u001b[39;49m\u001b[43mkwargs\u001b[49m\u001b[43m)\u001b[49m\n\u001b[1;32m    296\u001b[0m \u001b[38;5;28;01melif\u001b[39;00m \u001b[38;5;28misinstance\u001b[39m(x, \u001b[38;5;28mdict\u001b[39m):\n",
      "File \u001b[0;32m~/anaconda3/envs/torch_gpu/lib/python3.9/site-packages/torch/nn/modules/module.py:1553\u001b[0m, in \u001b[0;36mModule._wrapped_call_impl\u001b[0;34m(self, *args, **kwargs)\u001b[0m\n\u001b[1;32m   1552\u001b[0m \u001b[38;5;28;01melse\u001b[39;00m:\n\u001b[0;32m-> 1553\u001b[0m     \u001b[38;5;28;01mreturn\u001b[39;00m \u001b[38;5;28;43mself\u001b[39;49m\u001b[38;5;241;43m.\u001b[39;49m\u001b[43m_call_impl\u001b[49m\u001b[43m(\u001b[49m\u001b[38;5;241;43m*\u001b[39;49m\u001b[43margs\u001b[49m\u001b[43m,\u001b[49m\u001b[43m \u001b[49m\u001b[38;5;241;43m*\u001b[39;49m\u001b[38;5;241;43m*\u001b[39;49m\u001b[43mkwargs\u001b[49m\u001b[43m)\u001b[49m\n",
      "File \u001b[0;32m~/anaconda3/envs/torch_gpu/lib/python3.9/site-packages/torch/nn/modules/module.py:1603\u001b[0m, in \u001b[0;36mModule._call_impl\u001b[0;34m(self, *args, **kwargs)\u001b[0m\n\u001b[1;32m   1601\u001b[0m     args \u001b[38;5;241m=\u001b[39m bw_hook\u001b[38;5;241m.\u001b[39msetup_input_hook(args)\n\u001b[0;32m-> 1603\u001b[0m result \u001b[38;5;241m=\u001b[39m \u001b[43mforward_call\u001b[49m\u001b[43m(\u001b[49m\u001b[38;5;241;43m*\u001b[39;49m\u001b[43margs\u001b[49m\u001b[43m,\u001b[49m\u001b[43m \u001b[49m\u001b[38;5;241;43m*\u001b[39;49m\u001b[38;5;241;43m*\u001b[39;49m\u001b[43mkwargs\u001b[49m\u001b[43m)\u001b[49m\n\u001b[1;32m   1604\u001b[0m \u001b[38;5;28;01mif\u001b[39;00m _global_forward_hooks \u001b[38;5;129;01mor\u001b[39;00m \u001b[38;5;28mself\u001b[39m\u001b[38;5;241m.\u001b[39m_forward_hooks:\n",
      "Cell \u001b[0;32mIn[47], line 32\u001b[0m, in \u001b[0;36mNeural_network.forward\u001b[0;34m(self, x)\u001b[0m\n\u001b[1;32m     31\u001b[0m x\u001b[38;5;241m=\u001b[39m\u001b[38;5;28mself\u001b[39m\u001b[38;5;241m.\u001b[39mflatten(x)\n\u001b[0;32m---> 32\u001b[0m logits\u001b[38;5;241m=\u001b[39m\u001b[38;5;28;43mself\u001b[39;49m\u001b[38;5;241;43m.\u001b[39;49m\u001b[43mlinear_stack\u001b[49m\u001b[43m(\u001b[49m\u001b[43mx\u001b[49m\u001b[43m)\u001b[49m\n\u001b[1;32m     33\u001b[0m \u001b[38;5;28;01mreturn\u001b[39;00m logits\n",
      "File \u001b[0;32m~/anaconda3/envs/torch_gpu/lib/python3.9/site-packages/torch/nn/modules/module.py:1553\u001b[0m, in \u001b[0;36mModule._wrapped_call_impl\u001b[0;34m(self, *args, **kwargs)\u001b[0m\n\u001b[1;32m   1552\u001b[0m \u001b[38;5;28;01melse\u001b[39;00m:\n\u001b[0;32m-> 1553\u001b[0m     \u001b[38;5;28;01mreturn\u001b[39;00m \u001b[38;5;28;43mself\u001b[39;49m\u001b[38;5;241;43m.\u001b[39;49m\u001b[43m_call_impl\u001b[49m\u001b[43m(\u001b[49m\u001b[38;5;241;43m*\u001b[39;49m\u001b[43margs\u001b[49m\u001b[43m,\u001b[49m\u001b[43m \u001b[49m\u001b[38;5;241;43m*\u001b[39;49m\u001b[38;5;241;43m*\u001b[39;49m\u001b[43mkwargs\u001b[49m\u001b[43m)\u001b[49m\n",
      "File \u001b[0;32m~/anaconda3/envs/torch_gpu/lib/python3.9/site-packages/torch/nn/modules/module.py:1603\u001b[0m, in \u001b[0;36mModule._call_impl\u001b[0;34m(self, *args, **kwargs)\u001b[0m\n\u001b[1;32m   1601\u001b[0m     args \u001b[38;5;241m=\u001b[39m bw_hook\u001b[38;5;241m.\u001b[39msetup_input_hook(args)\n\u001b[0;32m-> 1603\u001b[0m result \u001b[38;5;241m=\u001b[39m \u001b[43mforward_call\u001b[49m\u001b[43m(\u001b[49m\u001b[38;5;241;43m*\u001b[39;49m\u001b[43margs\u001b[49m\u001b[43m,\u001b[49m\u001b[43m \u001b[49m\u001b[38;5;241;43m*\u001b[39;49m\u001b[38;5;241;43m*\u001b[39;49m\u001b[43mkwargs\u001b[49m\u001b[43m)\u001b[49m\n\u001b[1;32m   1604\u001b[0m \u001b[38;5;28;01mif\u001b[39;00m _global_forward_hooks \u001b[38;5;129;01mor\u001b[39;00m \u001b[38;5;28mself\u001b[39m\u001b[38;5;241m.\u001b[39m_forward_hooks:\n",
      "File \u001b[0;32m~/anaconda3/envs/torch_gpu/lib/python3.9/site-packages/torch/nn/modules/container.py:219\u001b[0m, in \u001b[0;36mSequential.forward\u001b[0;34m(self, input)\u001b[0m\n\u001b[1;32m    218\u001b[0m \u001b[38;5;28;01mfor\u001b[39;00m module \u001b[38;5;129;01min\u001b[39;00m \u001b[38;5;28mself\u001b[39m:\n\u001b[0;32m--> 219\u001b[0m     \u001b[38;5;28minput\u001b[39m \u001b[38;5;241m=\u001b[39m \u001b[43mmodule\u001b[49m\u001b[43m(\u001b[49m\u001b[38;5;28;43minput\u001b[39;49m\u001b[43m)\u001b[49m\n\u001b[1;32m    220\u001b[0m \u001b[38;5;28;01mreturn\u001b[39;00m \u001b[38;5;28minput\u001b[39m\n",
      "File \u001b[0;32m~/anaconda3/envs/torch_gpu/lib/python3.9/site-packages/torch/nn/modules/module.py:1553\u001b[0m, in \u001b[0;36mModule._wrapped_call_impl\u001b[0;34m(self, *args, **kwargs)\u001b[0m\n\u001b[1;32m   1552\u001b[0m \u001b[38;5;28;01melse\u001b[39;00m:\n\u001b[0;32m-> 1553\u001b[0m     \u001b[38;5;28;01mreturn\u001b[39;00m \u001b[38;5;28;43mself\u001b[39;49m\u001b[38;5;241;43m.\u001b[39;49m\u001b[43m_call_impl\u001b[49m\u001b[43m(\u001b[49m\u001b[38;5;241;43m*\u001b[39;49m\u001b[43margs\u001b[49m\u001b[43m,\u001b[49m\u001b[43m \u001b[49m\u001b[38;5;241;43m*\u001b[39;49m\u001b[38;5;241;43m*\u001b[39;49m\u001b[43mkwargs\u001b[49m\u001b[43m)\u001b[49m\n",
      "File \u001b[0;32m~/anaconda3/envs/torch_gpu/lib/python3.9/site-packages/torch/nn/modules/module.py:1603\u001b[0m, in \u001b[0;36mModule._call_impl\u001b[0;34m(self, *args, **kwargs)\u001b[0m\n\u001b[1;32m   1601\u001b[0m     args \u001b[38;5;241m=\u001b[39m bw_hook\u001b[38;5;241m.\u001b[39msetup_input_hook(args)\n\u001b[0;32m-> 1603\u001b[0m result \u001b[38;5;241m=\u001b[39m \u001b[43mforward_call\u001b[49m\u001b[43m(\u001b[49m\u001b[38;5;241;43m*\u001b[39;49m\u001b[43margs\u001b[49m\u001b[43m,\u001b[49m\u001b[43m \u001b[49m\u001b[38;5;241;43m*\u001b[39;49m\u001b[38;5;241;43m*\u001b[39;49m\u001b[43mkwargs\u001b[49m\u001b[43m)\u001b[49m\n\u001b[1;32m   1604\u001b[0m \u001b[38;5;28;01mif\u001b[39;00m _global_forward_hooks \u001b[38;5;129;01mor\u001b[39;00m \u001b[38;5;28mself\u001b[39m\u001b[38;5;241m.\u001b[39m_forward_hooks:\n",
      "File \u001b[0;32m~/anaconda3/envs/torch_gpu/lib/python3.9/site-packages/torch/nn/modules/linear.py:117\u001b[0m, in \u001b[0;36mLinear.forward\u001b[0;34m(self, input)\u001b[0m\n\u001b[1;32m    116\u001b[0m \u001b[38;5;28;01mdef\u001b[39;00m \u001b[38;5;21mforward\u001b[39m(\u001b[38;5;28mself\u001b[39m, \u001b[38;5;28minput\u001b[39m: Tensor) \u001b[38;5;241m-\u001b[39m\u001b[38;5;241m>\u001b[39m Tensor:\n\u001b[0;32m--> 117\u001b[0m     \u001b[38;5;28;01mreturn\u001b[39;00m \u001b[43mF\u001b[49m\u001b[38;5;241;43m.\u001b[39;49m\u001b[43mlinear\u001b[49m\u001b[43m(\u001b[49m\u001b[38;5;28;43minput\u001b[39;49m\u001b[43m,\u001b[49m\u001b[43m \u001b[49m\u001b[38;5;28;43mself\u001b[39;49m\u001b[38;5;241;43m.\u001b[39;49m\u001b[43mweight\u001b[49m\u001b[43m,\u001b[49m\u001b[43m \u001b[49m\u001b[38;5;28;43mself\u001b[39;49m\u001b[38;5;241;43m.\u001b[39;49m\u001b[43mbias\u001b[49m\u001b[43m)\u001b[49m\n",
      "\u001b[0;31mRuntimeError\u001b[0m: mat1 and mat2 shapes cannot be multiplied (1x10 and 8x10)",
      "\nThe above exception was the direct cause of the following exception:\n",
      "\u001b[0;31mRuntimeError\u001b[0m                              Traceback (most recent call last)",
      "Cell \u001b[0;32mIn[51], line 1\u001b[0m\n\u001b[0;32m----> 1\u001b[0m \u001b[43msummary\u001b[49m\u001b[43m(\u001b[49m\u001b[43mmodels\u001b[49m\u001b[43m[\u001b[49m\u001b[38;5;241;43m1\u001b[39;49m\u001b[43m]\u001b[49m\u001b[43m,\u001b[49m\u001b[43m \u001b[49m\u001b[43minput_size\u001b[49m\u001b[38;5;241;43m=\u001b[39;49m\u001b[43m(\u001b[49m\u001b[38;5;241;43m1\u001b[39;49m\u001b[43m,\u001b[49m\u001b[38;5;241;43m28\u001b[39;49m\u001b[43m,\u001b[49m\u001b[38;5;241;43m28\u001b[39;49m\u001b[43m)\u001b[49m\u001b[43m)\u001b[49m\n",
      "File \u001b[0;32m~/anaconda3/envs/torch_gpu/lib/python3.9/site-packages/torchinfo/torchinfo.py:223\u001b[0m, in \u001b[0;36msummary\u001b[0;34m(model, input_size, input_data, batch_dim, cache_forward_pass, col_names, col_width, depth, device, dtypes, mode, row_settings, verbose, **kwargs)\u001b[0m\n\u001b[1;32m    216\u001b[0m validate_user_params(\n\u001b[1;32m    217\u001b[0m     input_data, input_size, columns, col_width, device, dtypes, verbose\n\u001b[1;32m    218\u001b[0m )\n\u001b[1;32m    220\u001b[0m x, correct_input_size \u001b[38;5;241m=\u001b[39m process_input(\n\u001b[1;32m    221\u001b[0m     input_data, input_size, batch_dim, device, dtypes\n\u001b[1;32m    222\u001b[0m )\n\u001b[0;32m--> 223\u001b[0m summary_list \u001b[38;5;241m=\u001b[39m \u001b[43mforward_pass\u001b[49m\u001b[43m(\u001b[49m\n\u001b[1;32m    224\u001b[0m \u001b[43m    \u001b[49m\u001b[43mmodel\u001b[49m\u001b[43m,\u001b[49m\u001b[43m \u001b[49m\u001b[43mx\u001b[49m\u001b[43m,\u001b[49m\u001b[43m \u001b[49m\u001b[43mbatch_dim\u001b[49m\u001b[43m,\u001b[49m\u001b[43m \u001b[49m\u001b[43mcache_forward_pass\u001b[49m\u001b[43m,\u001b[49m\u001b[43m \u001b[49m\u001b[43mdevice\u001b[49m\u001b[43m,\u001b[49m\u001b[43m \u001b[49m\u001b[43mmodel_mode\u001b[49m\u001b[43m,\u001b[49m\u001b[43m \u001b[49m\u001b[38;5;241;43m*\u001b[39;49m\u001b[38;5;241;43m*\u001b[39;49m\u001b[43mkwargs\u001b[49m\n\u001b[1;32m    225\u001b[0m \u001b[43m\u001b[49m\u001b[43m)\u001b[49m\n\u001b[1;32m    226\u001b[0m formatting \u001b[38;5;241m=\u001b[39m FormattingOptions(depth, verbose, columns, col_width, rows)\n\u001b[1;32m    227\u001b[0m results \u001b[38;5;241m=\u001b[39m ModelStatistics(\n\u001b[1;32m    228\u001b[0m     summary_list, correct_input_size, get_total_memory_used(x), formatting\n\u001b[1;32m    229\u001b[0m )\n",
      "File \u001b[0;32m~/anaconda3/envs/torch_gpu/lib/python3.9/site-packages/torchinfo/torchinfo.py:304\u001b[0m, in \u001b[0;36mforward_pass\u001b[0;34m(model, x, batch_dim, cache_forward_pass, device, mode, **kwargs)\u001b[0m\n\u001b[1;32m    302\u001b[0m \u001b[38;5;28;01mexcept\u001b[39;00m \u001b[38;5;167;01mException\u001b[39;00m \u001b[38;5;28;01mas\u001b[39;00m e:\n\u001b[1;32m    303\u001b[0m     executed_layers \u001b[38;5;241m=\u001b[39m [layer \u001b[38;5;28;01mfor\u001b[39;00m layer \u001b[38;5;129;01min\u001b[39;00m summary_list \u001b[38;5;28;01mif\u001b[39;00m layer\u001b[38;5;241m.\u001b[39mexecuted]\n\u001b[0;32m--> 304\u001b[0m     \u001b[38;5;28;01mraise\u001b[39;00m \u001b[38;5;167;01mRuntimeError\u001b[39;00m(\n\u001b[1;32m    305\u001b[0m         \u001b[38;5;124m\"\u001b[39m\u001b[38;5;124mFailed to run torchinfo. See above stack traces for more details. \u001b[39m\u001b[38;5;124m\"\u001b[39m\n\u001b[1;32m    306\u001b[0m         \u001b[38;5;124mf\u001b[39m\u001b[38;5;124m\"\u001b[39m\u001b[38;5;124mExecuted layers up to: \u001b[39m\u001b[38;5;132;01m{\u001b[39;00mexecuted_layers\u001b[38;5;132;01m}\u001b[39;00m\u001b[38;5;124m\"\u001b[39m\n\u001b[1;32m    307\u001b[0m     ) \u001b[38;5;28;01mfrom\u001b[39;00m \u001b[38;5;21;01me\u001b[39;00m\n\u001b[1;32m    308\u001b[0m \u001b[38;5;28;01mfinally\u001b[39;00m:\n\u001b[1;32m    309\u001b[0m     \u001b[38;5;28;01mif\u001b[39;00m hooks:\n",
      "\u001b[0;31mRuntimeError\u001b[0m: Failed to run torchinfo. See above stack traces for more details. Executed layers up to: [Flatten: 1, Linear: 2, Linear: 2]"
     ]
    }
   ],
   "source": [
    "\n",
    "summary(models[1], input_size=(1,28,28))"
   ]
  }
 ],
 "metadata": {
  "kernelspec": {
   "display_name": "torch_gpu",
   "language": "python",
   "name": "python3"
  },
  "language_info": {
   "codemirror_mode": {
    "name": "ipython",
    "version": 3
   },
   "file_extension": ".py",
   "mimetype": "text/x-python",
   "name": "python",
   "nbconvert_exporter": "python",
   "pygments_lexer": "ipython3",
   "version": "3.9.19"
  }
 },
 "nbformat": 4,
 "nbformat_minor": 2
}
