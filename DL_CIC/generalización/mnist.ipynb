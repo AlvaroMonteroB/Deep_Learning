{
 "cells": [
  {
   "cell_type": "code",
   "execution_count": 21,
   "metadata": {},
   "outputs": [],
   "source": [
    "import torch\n",
    "import torchvision \n",
    "from torchvision import datasets, transforms\n",
    "from torch import nn\n",
    "from torch.utils.data import DataLoader, random_split, TensorDataset\n",
    "from torchinfo import summary\n",
    "import torchvision.datasets as datasets\n",
    "\n",
    "\n",
    "from collections import OrderedDict\n",
    "import matplotlib.pyplot as plt\n",
    "import matplotlib.image as mpimg\n",
    "import cv2\n",
    "from sklearn.model_selection import train_test_split\n",
    "from copy import deepcopy"
   ]
  },
  {
   "cell_type": "code",
   "execution_count": 3,
   "metadata": {},
   "outputs": [],
   "source": [
    "def contar_parametros(model):\n",
    "    total_parametros = sum(p.numel() for p in model.parameters() if p.requires_grad)\n",
    "    return total_parametros"
   ]
  },
  {
   "cell_type": "code",
   "execution_count": 4,
   "metadata": {},
   "outputs": [
    {
     "name": "stdout",
     "output_type": "stream",
     "text": [
      "Using cuda device\n"
     ]
    }
   ],
   "source": [
    "device = (\n",
    "    \"cuda\"\n",
    "    if torch.cuda.is_available()\n",
    "    else \"mps\"\n",
    "    if torch.backends.mps.is_available()\n",
    "    else \"cpu\"\n",
    ")\n",
    "print(f\"Using {device} device\")"
   ]
  },
  {
   "cell_type": "code",
   "execution_count": 5,
   "metadata": {},
   "outputs": [],
   "source": [
    "\n",
    "\n",
    "mnist_dataset=datasets.MNIST(root='./data',train=True,download=False,transform=transforms.ToTensor())\n",
    "mnist_testset=datasets.MNIST(root='./data',train=False,download=False,transform=transforms.ToTensor())"
   ]
  },
  {
   "cell_type": "code",
   "execution_count": 6,
   "metadata": {},
   "outputs": [
    {
     "name": "stdout",
     "output_type": "stream",
     "text": [
      "60000\n",
      "10000\n",
      "2\n"
     ]
    }
   ],
   "source": [
    "print(len(mnist_dataset))\n",
    "print(len(mnist_testset))\n",
    "print(len(mnist_dataset[0]))\n"
   ]
  },
  {
   "cell_type": "code",
   "execution_count": 67,
   "metadata": {},
   "outputs": [],
   "source": [
    "def show_loaded_images(images, titles):\n",
    "    num_images = len(images)\n",
    "    fig, axes = plt.subplots(1, num_images, figsize=(15, 5))  # Ajustar el tamaño de la figura según el número de imágenes\n",
    "    \n",
    "    for i in range(num_images):\n",
    "        # Convertir la imagen de BGR a RGB\n",
    "        image_rgb = cv2.cvtColor(images[i], cv2.COLOR_BGR2RGB)\n",
    "        \n",
    "        # Mostrar la imagen en la subtrama correspondiente\n",
    "        axes[i].imshow(image_rgb)\n",
    "        axes[i].axis('off')  # Desactivar los ejes\n",
    "        axes[i].set_title(titles[i])  # Establecer el título de la subtrama\n",
    "    \n",
    "    plt.show()"
   ]
  },
  {
   "cell_type": "code",
   "execution_count": 7,
   "metadata": {},
   "outputs": [
    {
     "name": "stdout",
     "output_type": "stream",
     "text": [
      "70000\n"
     ]
    }
   ],
   "source": [
    "#Mezclando datos\n",
    "Dataset=mnist_dataset+mnist_testset\n",
    "print(len(Dataset))"
   ]
  },
  {
   "cell_type": "code",
   "execution_count": 8,
   "metadata": {},
   "outputs": [],
   "source": [
    "train_size = int(0.8 * len(Dataset))  # 80% para entrenamiento\n",
    "test_size = len(Dataset) - train_size  # 20% para prueba\n",
    "train_dataset, test_dataset = random_split(Dataset, [train_size, test_size])\n",
    "\n",
    "# Dividir el conjunto de entrenamiento en entrenamiento (90% de 80%) y validación (10% de 80%)\n",
    "train_size = int(0.9 * len(train_dataset))  # 90% del conjunto de entrenamiento\n",
    "val_size = len(train_dataset) - train_size  # 10% para validación\n",
    "train_dataset, val_dataset = random_split(train_dataset, [train_size, val_size])"
   ]
  },
  {
   "cell_type": "code",
   "execution_count": 9,
   "metadata": {},
   "outputs": [
    {
     "name": "stdout",
     "output_type": "stream",
     "text": [
      "50400\n",
      "14000\n",
      "5600\n"
     ]
    }
   ],
   "source": [
    "print(len(train_dataset))\n",
    "print(len(test_dataset))\n",
    "print(len(val_dataset))"
   ]
  },
  {
   "cell_type": "code",
   "execution_count": 10,
   "metadata": {},
   "outputs": [],
   "source": [
    "class Neural_network(nn.Module):\n",
    "    def __init__(self, layers, neurons):\n",
    "        super(Neural_network, self).__init__()\n",
    "        \n",
    "        self.flatten = nn.Flatten()  # Para aplanar las imágenes de 28x28\n",
    "        \n",
    "        # Definir las capas básicas\n",
    "        basic_layers = []\n",
    "        \n",
    "        # Primera capa lineal\n",
    "        \n",
    "        if neurons<=1:\n",
    "            neurons=1\n",
    "        \n",
    "        basic_layers.append(('fc1', nn.Linear(28*28, neurons)))\n",
    "        #basic_layers.append(('relu1', nn.ReLU()))  # Aplicar ReLU después de la primera capa\n",
    "        \n",
    "        # Añadir capas ocultas adicionales si layers > 1\n",
    "        for i in range(2, layers+2):\n",
    "            basic_layers.append((f'fc{i+1}', nn.Linear(neurons, neurons)))  # Capas adicionales\n",
    "            basic_layers.append((f'relu{i+1}', nn.LeakyReLU()))  # ReLU para cada capa oculta\n",
    "        \n",
    "        # Capa de salida con Softmax (normaliza las salidas)\n",
    "        basic_layers.append(('output', nn.Linear(neurons, 10)))  # Asumiendo una clasificación de 10 clases\n",
    "        basic_layers.append(('softmax', nn.Softmax(dim=1)))  # Softmax en la última capa para clasificación\n",
    "\n",
    "        # Crear la secuencia de capas con OrderedDict\n",
    "        self.linear_stack = nn.Sequential(OrderedDict(basic_layers))\n",
    "    \n",
    "    def forward(self,x):\n",
    "        x=self.flatten(x)\n",
    "        logits=self.linear_stack(x)\n",
    "        return logits"
   ]
  },
  {
   "cell_type": "code",
   "execution_count": 11,
   "metadata": {},
   "outputs": [],
   "source": [
    "def train_model(model, train_loader, val_loader, criterion, optimizer,epochs):\n",
    "    val_loss = 0.0\n",
    "    accuracy=0.0\n",
    "    accuracy_t=[]\n",
    "    val_loss_t=[]\n",
    "    \n",
    "    for epoch in range(epochs):\n",
    "        model.train()  # Modo de entrenamiento\n",
    "        running_loss = 0.0\n",
    "        \n",
    "        # Entrenamiento en conjunto de entrenamiento\n",
    "        for inputs, labels in train_loader:\n",
    "            inputs, labels = inputs.to(device), labels.to(device)\n",
    "            optimizer.zero_grad()  # Limpiar los gradientes acumulados\n",
    "            \n",
    "            # Forward pass\n",
    "            outputs = model(inputs)\n",
    "            loss = criterion(outputs, labels)\n",
    "            \n",
    "            # Backward pass y optimización\n",
    "            loss.backward()\n",
    "            optimizer.step()\n",
    "            \n",
    "            running_loss += loss.item()\n",
    "\n",
    "        # Evaluar el modelo en el conjunto de validación\n",
    "        model.eval()  # Modo de evaluación\n",
    "        val_loss = 0.0\n",
    "        correct = 0\n",
    "        total = 0\n",
    "\n",
    "        with torch.no_grad():  # No calcular gradientes durante validación\n",
    "            for inputs, labels in val_loader:\n",
    "                inputs, labels = inputs.to(device), labels.to(device)\n",
    "                outputs = model(inputs)\n",
    "                loss = criterion(outputs, labels)\n",
    "                val_loss += loss.item()\n",
    "\n",
    "                # Calcular las predicciones correctas\n",
    "                _, predicted = torch.max(outputs, 1)\n",
    "                total += labels.size(0)\n",
    "                correct += (predicted == labels).sum().item()\n",
    "\n",
    "        # Calcular las pérdidas promedio y precisión\n",
    "        running_loss /= len(train_loader)\n",
    "        val_loss /= len(val_loader)\n",
    "        accuracy = correct / total\n",
    "\n",
    "        print(f\"Epoch {epoch+1}/{epochs}, Loss: {running_loss:.4f}, Val Loss: {val_loss:.4f}, Accuracy: {accuracy:.4f}\")\n",
    "        accuracy_t.append(accuracy)\n",
    "        val_loss_t.append(val_loss)\n",
    "    return [running_loss,val_loss,accuracy],accuracy_t,val_loss_t"
   ]
  },
  {
   "cell_type": "code",
   "execution_count": 28,
   "metadata": {},
   "outputs": [],
   "source": [
    "def test_loop(model, test_loader, criterion):\n",
    "    model.eval()  # Poner el modelo en modo evaluación\n",
    "    test_loss = 0.0\n",
    "    correct = 0\n",
    "    total = 0\n",
    "\n",
    "    with torch.no_grad():  # Desactivar cálculo de gradientes\n",
    "        for inputs, labels in test_loader:\n",
    "            # Mover los datos a la GPU (o CPU, dependiendo del dispositivo)\n",
    "            inputs, labels = inputs.to(device), labels.to(device)\n",
    "            \n",
    "            # Forward pass (sin backward ni actualización de pesos)\n",
    "            outputs = model(inputs)\n",
    "            loss = criterion(outputs, labels)\n",
    "            test_loss += loss.item()\n",
    "            \n",
    "            # Obtener las predicciones\n",
    "            _, predicted = torch.max(outputs, 1)  # `torch.max` devuelve el índice con el valor más alto (predicción)\n",
    "            total += labels.size(0)  # Contar cuántas etiquetas tenemos\n",
    "            correct += (predicted == labels).sum().item()  # Comparar predicciones con etiquetas verdaderas\n",
    "    \n",
    "    # Calcular la pérdida y la precisión\n",
    "    avg_test_loss = test_loss / len(test_loader)\n",
    "    accuracy = correct / total\n",
    "    \n",
    "    print(f'Average Test Loss: {avg_test_loss:.4f}, Accuracy: {accuracy:.4f}')\n",
    "    return avg_test_loss, accuracy\n",
    "\n",
    "# Llamar al test loop\n",
    "# model = ...  # Asegúrate de que tu modelo esté definido\n",
    "# test_loader = ...  # DataLoader para el conjunto de prueba\n",
    "# device = torch.device(\"cuda\" if torch.cuda.is_available() else \"cpu\")\n",
    "\n",
    "# model.to(device)  # Mover el modelo a GP"
   ]
  },
  {
   "cell_type": "code",
   "execution_count": 78,
   "metadata": {},
   "outputs": [],
   "source": [
    "models=[Neural_network(1,i) for i in range(0,10,2)]"
   ]
  },
  {
   "cell_type": "code",
   "execution_count": 80,
   "metadata": {},
   "outputs": [
    {
     "name": "stdout",
     "output_type": "stream",
     "text": [
      "807\n",
      "1606\n",
      "3210\n",
      "4822\n",
      "6442\n"
     ]
    }
   ],
   "source": [
    "params=[]\n",
    "for model in models:\n",
    "    print(contar_parametros(model))\n",
    "    params.append(contar_parametros(model))"
   ]
  },
  {
   "cell_type": "code",
   "execution_count": 81,
   "metadata": {},
   "outputs": [
    {
     "data": {
      "text/plain": [
       "==========================================================================================\n",
       "Layer (type:depth-idx)                   Output Shape              Param #\n",
       "==========================================================================================\n",
       "Neural_network                           [1, 10]                   --\n",
       "├─Flatten: 1-1                           [1, 784]                  --\n",
       "├─Sequential: 1-2                        [1, 10]                   --\n",
       "│    └─Linear: 2-1                       [1, 2]                    1,570\n",
       "│    └─Linear: 2-2                       [1, 2]                    6\n",
       "│    └─ReLU: 2-3                         [1, 2]                    --\n",
       "│    └─Linear: 2-4                       [1, 10]                   30\n",
       "│    └─Softmax: 2-5                      [1, 10]                   --\n",
       "==========================================================================================\n",
       "Total params: 1,606\n",
       "Trainable params: 1,606\n",
       "Non-trainable params: 0\n",
       "Total mult-adds (M): 0.00\n",
       "==========================================================================================\n",
       "Input size (MB): 0.00\n",
       "Forward/backward pass size (MB): 0.00\n",
       "Params size (MB): 0.01\n",
       "Estimated Total Size (MB): 0.01\n",
       "=========================================================================================="
      ]
     },
     "execution_count": 81,
     "metadata": {},
     "output_type": "execute_result"
    }
   ],
   "source": [
    "\n",
    "\n",
    "summary(models[1], input_size=(1,28,28))"
   ]
  },
  {
   "cell_type": "code",
   "execution_count": 12,
   "metadata": {},
   "outputs": [],
   "source": [
    "train_loader = DataLoader(train_dataset, batch_size=1000, shuffle=True)\n",
    "val_loader = DataLoader(val_dataset, batch_size=1000)\n",
    "test_loader = DataLoader(test_dataset, batch_size=1000)\n"
   ]
  },
  {
   "cell_type": "code",
   "execution_count": 83,
   "metadata": {},
   "outputs": [
    {
     "name": "stdout",
     "output_type": "stream",
     "text": [
      "Epoch 1/35, Loss: 2.2993, Val Loss: 2.2947, Accuracy: 0.1425\n",
      "Epoch 2/35, Loss: 2.2862, Val Loss: 2.2752, Accuracy: 0.1187\n",
      "Epoch 3/35, Loss: 2.2649, Val Loss: 2.2573, Accuracy: 0.1775\n",
      "Epoch 4/35, Loss: 2.2505, Val Loss: 2.2478, Accuracy: 0.1941\n",
      "Epoch 5/35, Loss: 2.2426, Val Loss: 2.2417, Accuracy: 0.2089\n",
      "Epoch 6/35, Loss: 2.2368, Val Loss: 2.2368, Accuracy: 0.2236\n",
      "Epoch 7/35, Loss: 2.2324, Val Loss: 2.2325, Accuracy: 0.2380\n",
      "Epoch 8/35, Loss: 2.2281, Val Loss: 2.2283, Accuracy: 0.2443\n",
      "Epoch 9/35, Loss: 2.2240, Val Loss: 2.2241, Accuracy: 0.2607\n",
      "Epoch 10/35, Loss: 2.2195, Val Loss: 2.2196, Accuracy: 0.2716\n",
      "Epoch 11/35, Loss: 2.2153, Val Loss: 2.2152, Accuracy: 0.2820\n",
      "Epoch 12/35, Loss: 2.2108, Val Loss: 2.2107, Accuracy: 0.2863\n",
      "Epoch 13/35, Loss: 2.2065, Val Loss: 2.2065, Accuracy: 0.2886\n",
      "Epoch 14/35, Loss: 2.2026, Val Loss: 2.2026, Accuracy: 0.2902\n",
      "Epoch 15/35, Loss: 2.1990, Val Loss: 2.1989, Accuracy: 0.2909\n",
      "Epoch 16/35, Loss: 2.1955, Val Loss: 2.1955, Accuracy: 0.2914\n",
      "Epoch 17/35, Loss: 2.1923, Val Loss: 2.1923, Accuracy: 0.2918\n",
      "Epoch 18/35, Loss: 2.1889, Val Loss: 2.1892, Accuracy: 0.2921\n",
      "Epoch 19/35, Loss: 2.1861, Val Loss: 2.1863, Accuracy: 0.2925\n",
      "Epoch 20/35, Loss: 2.1833, Val Loss: 2.1835, Accuracy: 0.2927\n",
      "Epoch 21/35, Loss: 2.1807, Val Loss: 2.1809, Accuracy: 0.2927\n",
      "Epoch 22/35, Loss: 2.1783, Val Loss: 2.1784, Accuracy: 0.2930\n",
      "Epoch 23/35, Loss: 2.1761, Val Loss: 2.1762, Accuracy: 0.2930\n",
      "Epoch 24/35, Loss: 2.1738, Val Loss: 2.1739, Accuracy: 0.2936\n",
      "Epoch 25/35, Loss: 2.1717, Val Loss: 2.1718, Accuracy: 0.2934\n",
      "Epoch 26/35, Loss: 2.1697, Val Loss: 2.1699, Accuracy: 0.2938\n",
      "Epoch 27/35, Loss: 2.1677, Val Loss: 2.1679, Accuracy: 0.2941\n",
      "Epoch 28/35, Loss: 2.1657, Val Loss: 2.1660, Accuracy: 0.2938\n",
      "Epoch 29/35, Loss: 2.1641, Val Loss: 2.1645, Accuracy: 0.2934\n",
      "Epoch 30/35, Loss: 2.1625, Val Loss: 2.1626, Accuracy: 0.2955\n",
      "Epoch 31/35, Loss: 2.1609, Val Loss: 2.1610, Accuracy: 0.2966\n",
      "Epoch 32/35, Loss: 2.1592, Val Loss: 2.1595, Accuracy: 0.3000\n",
      "Epoch 33/35, Loss: 2.1576, Val Loss: 2.1581, Accuracy: 0.3038\n",
      "Epoch 34/35, Loss: 2.1562, Val Loss: 2.1566, Accuracy: 0.3052\n",
      "Epoch 35/35, Loss: 2.1550, Val Loss: 2.1555, Accuracy: 0.3050\n",
      "[2.154996385761336, 2.155452768007914, 0.305]\n",
      "Epoch 1/35, Loss: 2.2840, Val Loss: 2.2651, Accuracy: 0.1832\n",
      "Epoch 2/35, Loss: 2.2485, Val Loss: 2.2396, Accuracy: 0.2620\n",
      "Epoch 3/35, Loss: 2.2211, Val Loss: 2.2082, Accuracy: 0.2952\n",
      "Epoch 4/35, Loss: 2.1848, Val Loss: 2.1771, Accuracy: 0.3020\n",
      "Epoch 5/35, Loss: 2.1596, Val Loss: 2.1585, Accuracy: 0.3243\n",
      "Epoch 6/35, Loss: 2.1437, Val Loss: 2.1429, Accuracy: 0.3695\n",
      "Epoch 7/35, Loss: 2.1286, Val Loss: 2.1269, Accuracy: 0.3750\n",
      "Epoch 8/35, Loss: 2.1132, Val Loss: 2.1098, Accuracy: 0.3777\n",
      "Epoch 9/35, Loss: 2.0984, Val Loss: 2.0960, Accuracy: 0.3807\n",
      "Epoch 10/35, Loss: 2.0874, Val Loss: 2.0867, Accuracy: 0.3850\n",
      "Epoch 11/35, Loss: 2.0796, Val Loss: 2.0803, Accuracy: 0.3893\n",
      "Epoch 12/35, Loss: 2.0743, Val Loss: 2.0753, Accuracy: 0.3927\n",
      "Epoch 13/35, Loss: 2.0693, Val Loss: 2.0713, Accuracy: 0.3952\n",
      "Epoch 14/35, Loss: 2.0656, Val Loss: 2.0678, Accuracy: 0.3973\n",
      "Epoch 15/35, Loss: 2.0618, Val Loss: 2.0646, Accuracy: 0.4014\n",
      "Epoch 16/35, Loss: 2.0581, Val Loss: 2.0602, Accuracy: 0.4134\n",
      "Epoch 17/35, Loss: 2.0525, Val Loss: 2.0542, Accuracy: 0.4275\n",
      "Epoch 18/35, Loss: 2.0452, Val Loss: 2.0455, Accuracy: 0.4427\n",
      "Epoch 19/35, Loss: 2.0299, Val Loss: 2.0242, Accuracy: 0.4620\n",
      "Epoch 20/35, Loss: 2.0073, Val Loss: 2.0074, Accuracy: 0.4729\n",
      "Epoch 21/35, Loss: 1.9955, Val Loss: 1.9972, Accuracy: 0.4791\n",
      "Epoch 22/35, Loss: 1.9872, Val Loss: 1.9897, Accuracy: 0.4846\n",
      "Epoch 23/35, Loss: 1.9807, Val Loss: 1.9837, Accuracy: 0.4925\n",
      "Epoch 24/35, Loss: 1.9747, Val Loss: 1.9779, Accuracy: 0.5071\n",
      "Epoch 25/35, Loss: 1.9689, Val Loss: 1.9726, Accuracy: 0.5143\n",
      "Epoch 26/35, Loss: 1.9627, Val Loss: 1.9667, Accuracy: 0.5352\n",
      "Epoch 27/35, Loss: 1.9566, Val Loss: 1.9609, Accuracy: 0.5404\n",
      "Epoch 28/35, Loss: 1.9508, Val Loss: 1.9548, Accuracy: 0.5484\n",
      "Epoch 29/35, Loss: 1.9440, Val Loss: 1.9483, Accuracy: 0.5589\n",
      "Epoch 30/35, Loss: 1.9372, Val Loss: 1.9416, Accuracy: 0.5718\n",
      "Epoch 31/35, Loss: 1.9311, Val Loss: 1.9362, Accuracy: 0.5764\n",
      "Epoch 32/35, Loss: 1.9258, Val Loss: 1.9319, Accuracy: 0.5830\n",
      "Epoch 33/35, Loss: 1.9206, Val Loss: 1.9265, Accuracy: 0.5843\n",
      "Epoch 34/35, Loss: 1.9165, Val Loss: 1.9226, Accuracy: 0.5854\n",
      "Epoch 35/35, Loss: 1.9118, Val Loss: 1.9188, Accuracy: 0.5904\n",
      "[1.9118159074409335, 1.9188373883565266, 0.5903571428571428]\n",
      "Epoch 1/35, Loss: 2.2915, Val Loss: 2.2665, Accuracy: 0.2277\n",
      "Epoch 2/35, Loss: 2.2225, Val Loss: 2.1635, Accuracy: 0.3718\n",
      "Epoch 3/35, Loss: 2.1074, Val Loss: 2.0636, Accuracy: 0.4218\n",
      "Epoch 4/35, Loss: 2.0395, Val Loss: 2.0214, Accuracy: 0.4366\n",
      "Epoch 5/35, Loss: 2.0089, Val Loss: 1.9998, Accuracy: 0.4455\n",
      "Epoch 6/35, Loss: 1.9916, Val Loss: 1.9858, Accuracy: 0.4534\n",
      "Epoch 7/35, Loss: 1.9795, Val Loss: 1.9752, Accuracy: 0.5038\n",
      "Epoch 8/35, Loss: 1.9696, Val Loss: 1.9671, Accuracy: 0.5111\n",
      "Epoch 9/35, Loss: 1.9620, Val Loss: 1.9600, Accuracy: 0.5170\n",
      "Epoch 10/35, Loss: 1.9548, Val Loss: 1.9534, Accuracy: 0.5212\n",
      "Epoch 11/35, Loss: 1.9478, Val Loss: 1.9465, Accuracy: 0.5259\n",
      "Epoch 12/35, Loss: 1.9379, Val Loss: 1.9339, Accuracy: 0.5455\n",
      "Epoch 13/35, Loss: 1.9164, Val Loss: 1.9039, Accuracy: 0.5670\n",
      "Epoch 14/35, Loss: 1.8725, Val Loss: 1.8484, Accuracy: 0.6414\n",
      "Epoch 15/35, Loss: 1.8199, Val Loss: 1.8030, Accuracy: 0.6757\n",
      "Epoch 16/35, Loss: 1.7899, Val Loss: 1.7811, Accuracy: 0.6904\n",
      "Epoch 17/35, Loss: 1.7738, Val Loss: 1.7685, Accuracy: 0.7020\n",
      "Epoch 18/35, Loss: 1.7615, Val Loss: 1.7577, Accuracy: 0.7161\n",
      "Epoch 19/35, Loss: 1.7500, Val Loss: 1.7468, Accuracy: 0.7379\n",
      "Epoch 20/35, Loss: 1.7357, Val Loss: 1.7296, Accuracy: 0.7564\n",
      "Epoch 21/35, Loss: 1.7119, Val Loss: 1.7034, Accuracy: 0.7834\n",
      "Epoch 22/35, Loss: 1.6871, Val Loss: 1.6841, Accuracy: 0.7991\n",
      "Epoch 23/35, Loss: 1.6709, Val Loss: 1.6732, Accuracy: 0.8098\n",
      "Epoch 24/35, Loss: 1.6597, Val Loss: 1.6648, Accuracy: 0.8113\n",
      "Epoch 25/35, Loss: 1.6523, Val Loss: 1.6572, Accuracy: 0.8187\n",
      "Epoch 26/35, Loss: 1.6457, Val Loss: 1.6520, Accuracy: 0.8236\n",
      "Epoch 27/35, Loss: 1.6405, Val Loss: 1.6481, Accuracy: 0.8263\n",
      "Epoch 28/35, Loss: 1.6371, Val Loss: 1.6438, Accuracy: 0.8307\n",
      "Epoch 29/35, Loss: 1.6339, Val Loss: 1.6409, Accuracy: 0.8321\n",
      "Epoch 30/35, Loss: 1.6304, Val Loss: 1.6381, Accuracy: 0.8352\n",
      "Epoch 31/35, Loss: 1.6275, Val Loss: 1.6354, Accuracy: 0.8363\n",
      "Epoch 32/35, Loss: 1.6250, Val Loss: 1.6328, Accuracy: 0.8395\n",
      "Epoch 33/35, Loss: 1.6228, Val Loss: 1.6308, Accuracy: 0.8409\n",
      "Epoch 34/35, Loss: 1.6206, Val Loss: 1.6292, Accuracy: 0.8400\n",
      "Epoch 35/35, Loss: 1.6190, Val Loss: 1.6283, Accuracy: 0.8413\n",
      "[1.618987424700868, 1.62825612227122, 0.84125]\n",
      "Epoch 1/35, Loss: 2.2648, Val Loss: 2.2054, Accuracy: 0.3536\n",
      "Epoch 2/35, Loss: 2.1430, Val Loss: 2.0811, Accuracy: 0.4039\n",
      "Epoch 3/35, Loss: 2.0427, Val Loss: 1.9907, Accuracy: 0.5316\n",
      "Epoch 4/35, Loss: 1.9508, Val Loss: 1.9146, Accuracy: 0.5839\n",
      "Epoch 5/35, Loss: 1.8996, Val Loss: 1.8833, Accuracy: 0.5957\n",
      "Epoch 6/35, Loss: 1.8771, Val Loss: 1.8674, Accuracy: 0.6079\n",
      "Epoch 7/35, Loss: 1.8637, Val Loss: 1.8567, Accuracy: 0.6166\n",
      "Epoch 8/35, Loss: 1.8532, Val Loss: 1.8478, Accuracy: 0.6234\n",
      "Epoch 9/35, Loss: 1.8450, Val Loss: 1.8404, Accuracy: 0.6304\n",
      "Epoch 10/35, Loss: 1.8381, Val Loss: 1.8339, Accuracy: 0.6341\n",
      "Epoch 11/35, Loss: 1.8322, Val Loss: 1.8285, Accuracy: 0.6396\n",
      "Epoch 12/35, Loss: 1.8273, Val Loss: 1.8243, Accuracy: 0.6420\n",
      "Epoch 13/35, Loss: 1.8228, Val Loss: 1.8205, Accuracy: 0.6432\n",
      "Epoch 14/35, Loss: 1.8189, Val Loss: 1.8177, Accuracy: 0.6461\n",
      "Epoch 15/35, Loss: 1.8161, Val Loss: 1.8148, Accuracy: 0.6484\n",
      "Epoch 16/35, Loss: 1.8135, Val Loss: 1.8134, Accuracy: 0.6496\n",
      "Epoch 17/35, Loss: 1.8111, Val Loss: 1.8112, Accuracy: 0.6520\n",
      "Epoch 18/35, Loss: 1.8094, Val Loss: 1.8103, Accuracy: 0.6516\n",
      "Epoch 19/35, Loss: 1.8083, Val Loss: 1.8088, Accuracy: 0.6534\n",
      "Epoch 20/35, Loss: 1.8072, Val Loss: 1.8076, Accuracy: 0.6543\n",
      "Epoch 21/35, Loss: 1.8056, Val Loss: 1.8067, Accuracy: 0.6561\n",
      "Epoch 22/35, Loss: 1.8051, Val Loss: 1.8060, Accuracy: 0.6564\n",
      "Epoch 23/35, Loss: 1.8041, Val Loss: 1.8057, Accuracy: 0.6573\n",
      "Epoch 24/35, Loss: 1.8033, Val Loss: 1.8048, Accuracy: 0.6577\n",
      "Epoch 25/35, Loss: 1.8025, Val Loss: 1.8045, Accuracy: 0.6566\n",
      "Epoch 26/35, Loss: 1.8018, Val Loss: 1.8035, Accuracy: 0.6587\n",
      "Epoch 27/35, Loss: 1.8010, Val Loss: 1.8032, Accuracy: 0.6580\n",
      "Epoch 28/35, Loss: 1.8000, Val Loss: 1.8028, Accuracy: 0.6587\n",
      "Epoch 29/35, Loss: 1.7999, Val Loss: 1.8027, Accuracy: 0.6591\n",
      "Epoch 30/35, Loss: 1.7993, Val Loss: 1.8023, Accuracy: 0.6589\n",
      "Epoch 31/35, Loss: 1.7993, Val Loss: 1.8017, Accuracy: 0.6598\n",
      "Epoch 32/35, Loss: 1.7981, Val Loss: 1.8015, Accuracy: 0.6604\n",
      "Epoch 33/35, Loss: 1.7973, Val Loss: 1.8010, Accuracy: 0.6609\n",
      "Epoch 34/35, Loss: 1.7966, Val Loss: 1.8012, Accuracy: 0.6602\n",
      "Epoch 35/35, Loss: 1.7965, Val Loss: 1.8001, Accuracy: 0.6611\n",
      "[1.7965163927452237, 1.800109366575877, 0.6610714285714285]\n",
      "Epoch 1/35, Loss: 2.2600, Val Loss: 2.1922, Accuracy: 0.3082\n",
      "Epoch 2/35, Loss: 2.1085, Val Loss: 2.0436, Accuracy: 0.4352\n",
      "Epoch 3/35, Loss: 2.0020, Val Loss: 1.9666, Accuracy: 0.5470\n",
      "Epoch 4/35, Loss: 1.9188, Val Loss: 1.8752, Accuracy: 0.6514\n",
      "Epoch 5/35, Loss: 1.8103, Val Loss: 1.7665, Accuracy: 0.7391\n",
      "Epoch 6/35, Loss: 1.7189, Val Loss: 1.6852, Accuracy: 0.8420\n",
      "Epoch 7/35, Loss: 1.6460, Val Loss: 1.6266, Accuracy: 0.8702\n",
      "Epoch 8/35, Loss: 1.6119, Val Loss: 1.6071, Accuracy: 0.8802\n",
      "Epoch 9/35, Loss: 1.5974, Val Loss: 1.5965, Accuracy: 0.8880\n",
      "Epoch 10/35, Loss: 1.5890, Val Loss: 1.5890, Accuracy: 0.8907\n",
      "Epoch 11/35, Loss: 1.5824, Val Loss: 1.5842, Accuracy: 0.8921\n",
      "Epoch 12/35, Loss: 1.5777, Val Loss: 1.5797, Accuracy: 0.8950\n",
      "Epoch 13/35, Loss: 1.5736, Val Loss: 1.5762, Accuracy: 0.8959\n",
      "Epoch 14/35, Loss: 1.5702, Val Loss: 1.5734, Accuracy: 0.8986\n",
      "Epoch 15/35, Loss: 1.5676, Val Loss: 1.5709, Accuracy: 0.9005\n",
      "Epoch 16/35, Loss: 1.5652, Val Loss: 1.5700, Accuracy: 0.9020\n",
      "Epoch 17/35, Loss: 1.5632, Val Loss: 1.5679, Accuracy: 0.9036\n",
      "Epoch 18/35, Loss: 1.5615, Val Loss: 1.5664, Accuracy: 0.9041\n",
      "Epoch 19/35, Loss: 1.5593, Val Loss: 1.5656, Accuracy: 0.9039\n",
      "Epoch 20/35, Loss: 1.5577, Val Loss: 1.5632, Accuracy: 0.9045\n",
      "Epoch 21/35, Loss: 1.5564, Val Loss: 1.5626, Accuracy: 0.9052\n",
      "Epoch 22/35, Loss: 1.5551, Val Loss: 1.5616, Accuracy: 0.9057\n",
      "Epoch 23/35, Loss: 1.5537, Val Loss: 1.5610, Accuracy: 0.9061\n",
      "Epoch 24/35, Loss: 1.5524, Val Loss: 1.5602, Accuracy: 0.9082\n",
      "Epoch 25/35, Loss: 1.5517, Val Loss: 1.5591, Accuracy: 0.9086\n",
      "Epoch 26/35, Loss: 1.5507, Val Loss: 1.5581, Accuracy: 0.9105\n",
      "Epoch 27/35, Loss: 1.5496, Val Loss: 1.5570, Accuracy: 0.9104\n",
      "Epoch 28/35, Loss: 1.5489, Val Loss: 1.5572, Accuracy: 0.9104\n",
      "Epoch 29/35, Loss: 1.5480, Val Loss: 1.5570, Accuracy: 0.9113\n",
      "Epoch 30/35, Loss: 1.5475, Val Loss: 1.5557, Accuracy: 0.9123\n",
      "Epoch 31/35, Loss: 1.5464, Val Loss: 1.5553, Accuracy: 0.9121\n",
      "Epoch 32/35, Loss: 1.5457, Val Loss: 1.5541, Accuracy: 0.9132\n",
      "Epoch 33/35, Loss: 1.5451, Val Loss: 1.5535, Accuracy: 0.9137\n",
      "Epoch 34/35, Loss: 1.5441, Val Loss: 1.5536, Accuracy: 0.9134\n",
      "Epoch 35/35, Loss: 1.5438, Val Loss: 1.5532, Accuracy: 0.9120\n",
      "[1.5438340504964192, 1.5532080133756, 0.9119642857142857]\n"
     ]
    }
   ],
   "source": [
    "\n",
    "model_stats=[]\n",
    "acc_models=[]\n",
    "loss_models=[]\n",
    "for model in models: \n",
    "    model=model.to(device)\n",
    "    criterion = nn.CrossEntropyLoss() \n",
    "    optimizer = torch.optim.Adam(model.parameters(), lr=0.001)\n",
    "    aux_stats,acc_hist,loss_hist=train_model(model,train_loader,val_loader,criterion,optimizer,epochs=35)\n",
    "    acc_models.append(deepcopy(acc_hist))\n",
    "    loss_models.append(deepcopy(loss_hist))\n",
    "    model_stats.append(deepcopy(aux_stats))\n",
    "    print(aux_stats)"
   ]
  },
  {
   "cell_type": "code",
   "execution_count": 87,
   "metadata": {},
   "outputs": [
    {
     "name": "stdout",
     "output_type": "stream",
     "text": [
      "[2.154996385761336, 2.155452768007914, 0.305]\n",
      "[1.9118159074409335, 1.9188373883565266, 0.5903571428571428]\n",
      "[1.618987424700868, 1.62825612227122, 0.84125]\n",
      "[1.7965163927452237, 1.800109366575877, 0.6610714285714285]\n",
      "[1.5438340504964192, 1.5532080133756, 0.9119642857142857]\n"
     ]
    }
   ],
   "source": [
    "for stat in model_stats:\n",
    "    print(stat)"
   ]
  },
  {
   "cell_type": "code",
   "execution_count": 88,
   "metadata": {},
   "outputs": [],
   "source": [
    "acc=[i[2] for i in model_stats]\n",
    "err=[i[-1] for i in loss_models]"
   ]
  },
  {
   "cell_type": "code",
   "execution_count": 89,
   "metadata": {},
   "outputs": [
    {
     "data": {
      "image/png": "[encoded data removed]",
      "text/plain": [
       "<Figure size 640x480 with 1 Axes>"
      ]
     },
     "metadata": {},
     "output_type": "display_data"
    }
   ],
   "source": [
    "plt.plot(params,acc,marker='o')\n",
    "plt.xlabel('Parametros')\n",
    "plt.ylabel('Accuracy')\n",
    "\n",
    "# Añadir un título\n",
    "plt.title('Modelo de una sola capa')\n",
    "\n",
    "# Mostrar la gráfica\n",
    "plt.show()"
   ]
  },
  {
   "cell_type": "code",
   "execution_count": 90,
   "metadata": {},
   "outputs": [
    {
     "data": {
      "image/png": "[encoded data removed]",
      "text/plain": [
       "<Figure size 640x480 with 1 Axes>"
      ]
     },
     "metadata": {},
     "output_type": "display_data"
    }
   ],
   "source": [
    "plt.plot(params,err,marker='o')\n",
    "plt.xlabel('Parametros')\n",
    "plt.ylabel('Error')\n",
    "\n",
    "# Añadir un título\n",
    "plt.title('Modelo de una sola capa')\n",
    "\n",
    "# Mostrar la gráfica\n",
    "plt.show()"
   ]
  },
  {
   "cell_type": "code",
   "execution_count": 91,
   "metadata": {},
   "outputs": [],
   "source": [
    "neuronas=[i*2 for i in range(0,10,2)]"
   ]
  },
  {
   "cell_type": "code",
   "execution_count": 92,
   "metadata": {},
   "outputs": [
    {
     "data": {
      "image/png": "[encoded data removed]",
      "text/plain": [
       "<Figure size 640x480 with 1 Axes>"
      ]
     },
     "metadata": {},
     "output_type": "display_data"
    }
   ],
   "source": [
    "plt.plot(neuronas,acc,marker='o')\n",
    "plt.xlabel('Neuronas')\n",
    "plt.ylabel('Accuracy')\n",
    "\n",
    "# Añadir un título\n",
    "plt.title('Modelo de una sola capa')\n",
    "\n",
    "# Mostrar la gráfica\n",
    "plt.show()"
   ]
  },
  {
   "cell_type": "code",
   "execution_count": null,
   "metadata": {},
   "outputs": [],
   "source": [
    "loss_t=[],acc_t=[]\n",
    "for model in models:\n",
    "    auxl,auxa=test_loop(model,test_loader,criterion = nn.CrossEntropyLoss())\n",
    "    loss_t.append(auxl)\n",
    "    acc_t.append(auxa)"
   ]
  },
  {
   "cell_type": "markdown",
   "metadata": {},
   "source": [
    "## Redes de varias capas"
   ]
  },
  {
   "cell_type": "code",
   "execution_count": 13,
   "metadata": {},
   "outputs": [],
   "source": [
    "models=[Neural_network(i,i) for i in range(0,10,2)]"
   ]
  },
  {
   "cell_type": "code",
   "execution_count": 14,
   "metadata": {},
   "outputs": [
    {
     "name": "stdout",
     "output_type": "stream",
     "text": [
      "805\n",
      "1612\n",
      "3270\n",
      "5032\n",
      "6946\n"
     ]
    }
   ],
   "source": [
    "params=[]\n",
    "for model in models:\n",
    "    print(contar_parametros(model))\n",
    "    params.append(contar_parametros(model))"
   ]
  },
  {
   "cell_type": "code",
   "execution_count": 18,
   "metadata": {},
   "outputs": [
    {
     "data": {
      "text/plain": [
       "==========================================================================================\n",
       "Layer (type:depth-idx)                   Output Shape              Param #\n",
       "==========================================================================================\n",
       "Neural_network                           [1, 10]                   --\n",
       "├─Flatten: 1-1                           [1, 784]                  --\n",
       "├─Sequential: 1-2                        [1, 10]                   --\n",
       "│    └─Linear: 2-1                       [1, 2]                    1,570\n",
       "│    └─Linear: 2-2                       [1, 2]                    6\n",
       "│    └─LeakyReLU: 2-3                    [1, 2]                    --\n",
       "│    └─Linear: 2-4                       [1, 2]                    6\n",
       "│    └─LeakyReLU: 2-5                    [1, 2]                    --\n",
       "│    └─Linear: 2-6                       [1, 10]                   30\n",
       "│    └─Softmax: 2-7                      [1, 10]                   --\n",
       "==========================================================================================\n",
       "Total params: 1,612\n",
       "Trainable params: 1,612\n",
       "Non-trainable params: 0\n",
       "Total mult-adds (M): 0.00\n",
       "==========================================================================================\n",
       "Input size (MB): 0.00\n",
       "Forward/backward pass size (MB): 0.00\n",
       "Params size (MB): 0.01\n",
       "Estimated Total Size (MB): 0.01\n",
       "=========================================================================================="
      ]
     },
     "execution_count": 18,
     "metadata": {},
     "output_type": "execute_result"
    }
   ],
   "source": [
    "\n",
    "summary(models[1], input_size=(1,28,28))"
   ]
  },
  {
   "cell_type": "code",
   "execution_count": 22,
   "metadata": {},
   "outputs": [
    {
     "name": "stdout",
     "output_type": "stream",
     "text": [
      "Epoch 1/35, Loss: 2.0848, Val Loss: 2.0793, Accuracy: 0.3829\n",
      "Epoch 2/35, Loss: 2.0837, Val Loss: 2.0778, Accuracy: 0.3857\n",
      "Epoch 3/35, Loss: 2.0818, Val Loss: 2.0764, Accuracy: 0.3875\n",
      "Epoch 4/35, Loss: 2.0806, Val Loss: 2.0750, Accuracy: 0.3889\n",
      "Epoch 5/35, Loss: 2.0791, Val Loss: 2.0736, Accuracy: 0.3914\n",
      "Epoch 6/35, Loss: 2.0780, Val Loss: 2.0725, Accuracy: 0.3934\n",
      "Epoch 7/35, Loss: 2.0770, Val Loss: 2.0712, Accuracy: 0.3962\n",
      "Epoch 8/35, Loss: 2.0761, Val Loss: 2.0700, Accuracy: 0.3982\n",
      "Epoch 9/35, Loss: 2.0744, Val Loss: 2.0690, Accuracy: 0.3979\n",
      "Epoch 10/35, Loss: 2.0734, Val Loss: 2.0678, Accuracy: 0.3998\n",
      "Epoch 11/35, Loss: 2.0727, Val Loss: 2.0667, Accuracy: 0.4018\n",
      "Epoch 12/35, Loss: 2.0713, Val Loss: 2.0657, Accuracy: 0.4034\n",
      "Epoch 13/35, Loss: 2.0706, Val Loss: 2.0649, Accuracy: 0.4020\n",
      "Epoch 14/35, Loss: 2.0695, Val Loss: 2.0637, Accuracy: 0.4048\n",
      "Epoch 15/35, Loss: 2.0683, Val Loss: 2.0628, Accuracy: 0.4061\n",
      "Epoch 16/35, Loss: 2.0676, Val Loss: 2.0618, Accuracy: 0.4111\n",
      "Epoch 17/35, Loss: 2.0669, Val Loss: 2.0609, Accuracy: 0.4118\n",
      "Epoch 18/35, Loss: 2.0660, Val Loss: 2.0601, Accuracy: 0.4136\n",
      "Epoch 19/35, Loss: 2.0649, Val Loss: 2.0592, Accuracy: 0.4150\n",
      "Epoch 20/35, Loss: 2.0637, Val Loss: 2.0584, Accuracy: 0.4150\n",
      "Epoch 21/35, Loss: 2.0631, Val Loss: 2.0577, Accuracy: 0.4168\n",
      "Epoch 22/35, Loss: 2.0622, Val Loss: 2.0567, Accuracy: 0.4207\n",
      "Epoch 23/35, Loss: 2.0615, Val Loss: 2.0560, Accuracy: 0.4200\n",
      "Epoch 24/35, Loss: 2.0601, Val Loss: 2.0550, Accuracy: 0.4214\n",
      "Epoch 25/35, Loss: 2.0597, Val Loss: 2.0543, Accuracy: 0.4211\n",
      "Epoch 26/35, Loss: 2.0593, Val Loss: 2.0536, Accuracy: 0.4246\n",
      "Epoch 27/35, Loss: 2.0583, Val Loss: 2.0527, Accuracy: 0.4243\n",
      "Epoch 28/35, Loss: 2.0576, Val Loss: 2.0520, Accuracy: 0.4263\n",
      "Epoch 29/35, Loss: 2.0564, Val Loss: 2.0512, Accuracy: 0.4279\n",
      "Epoch 30/35, Loss: 2.0560, Val Loss: 2.0505, Accuracy: 0.4280\n",
      "Epoch 31/35, Loss: 2.0549, Val Loss: 2.0497, Accuracy: 0.4305\n",
      "Epoch 32/35, Loss: 2.0541, Val Loss: 2.0491, Accuracy: 0.4282\n",
      "Epoch 33/35, Loss: 2.0537, Val Loss: 2.0483, Accuracy: 0.4325\n",
      "Epoch 34/35, Loss: 2.0531, Val Loss: 2.0477, Accuracy: 0.4314\n",
      "Epoch 35/35, Loss: 2.0521, Val Loss: 2.0469, Accuracy: 0.4332\n",
      "[2.0521291050256467, 2.046935558319092, 0.4332142857142857]\n",
      "Epoch 1/35, Loss: 2.3014, Val Loss: 2.2952, Accuracy: 0.1121\n",
      "Epoch 2/35, Loss: 2.2826, Val Loss: 2.2683, Accuracy: 0.0964\n",
      "Epoch 3/35, Loss: 2.2558, Val Loss: 2.2476, Accuracy: 0.1741\n",
      "Epoch 4/35, Loss: 2.2412, Val Loss: 2.2375, Accuracy: 0.1839\n",
      "Epoch 5/35, Loss: 2.2333, Val Loss: 2.2302, Accuracy: 0.1959\n",
      "Epoch 6/35, Loss: 2.2252, Val Loss: 2.2200, Accuracy: 0.2288\n",
      "Epoch 7/35, Loss: 2.2069, Val Loss: 2.1879, Accuracy: 0.2507\n",
      "Epoch 8/35, Loss: 2.1717, Val Loss: 2.1594, Accuracy: 0.2737\n",
      "Epoch 9/35, Loss: 2.1549, Val Loss: 2.1498, Accuracy: 0.2759\n",
      "Epoch 10/35, Loss: 2.1473, Val Loss: 2.1436, Accuracy: 0.2827\n",
      "Epoch 11/35, Loss: 2.1414, Val Loss: 2.1370, Accuracy: 0.2950\n",
      "Epoch 12/35, Loss: 2.1353, Val Loss: 2.1312, Accuracy: 0.3059\n",
      "Epoch 13/35, Loss: 2.1296, Val Loss: 2.1261, Accuracy: 0.3266\n",
      "Epoch 14/35, Loss: 2.1251, Val Loss: 2.1202, Accuracy: 0.3405\n",
      "Epoch 15/35, Loss: 2.1178, Val Loss: 2.1107, Accuracy: 0.3411\n",
      "Epoch 16/35, Loss: 2.1068, Val Loss: 2.0971, Accuracy: 0.3396\n",
      "Epoch 17/35, Loss: 2.0908, Val Loss: 2.0790, Accuracy: 0.4330\n",
      "Epoch 18/35, Loss: 2.0741, Val Loss: 2.0638, Accuracy: 0.4539\n",
      "Epoch 19/35, Loss: 2.0606, Val Loss: 2.0518, Accuracy: 0.4620\n",
      "Epoch 20/35, Loss: 2.0499, Val Loss: 2.0429, Accuracy: 0.4630\n",
      "Epoch 21/35, Loss: 2.0420, Val Loss: 2.0353, Accuracy: 0.4645\n",
      "Epoch 22/35, Loss: 2.0345, Val Loss: 2.0282, Accuracy: 0.4675\n",
      "Epoch 23/35, Loss: 2.0277, Val Loss: 2.0219, Accuracy: 0.4714\n",
      "Epoch 24/35, Loss: 2.0201, Val Loss: 2.0118, Accuracy: 0.4825\n",
      "Epoch 25/35, Loss: 2.0062, Val Loss: 1.9936, Accuracy: 0.5091\n",
      "Epoch 26/35, Loss: 1.9909, Val Loss: 1.9805, Accuracy: 0.5227\n",
      "Epoch 27/35, Loss: 1.9779, Val Loss: 1.9691, Accuracy: 0.5254\n",
      "Epoch 28/35, Loss: 1.9678, Val Loss: 1.9606, Accuracy: 0.5288\n",
      "Epoch 29/35, Loss: 1.9611, Val Loss: 1.9548, Accuracy: 0.5288\n",
      "Epoch 30/35, Loss: 1.9559, Val Loss: 1.9503, Accuracy: 0.5300\n",
      "Epoch 31/35, Loss: 1.9516, Val Loss: 1.9466, Accuracy: 0.5305\n",
      "Epoch 32/35, Loss: 1.9476, Val Loss: 1.9439, Accuracy: 0.5327\n",
      "Epoch 33/35, Loss: 1.9448, Val Loss: 1.9410, Accuracy: 0.5350\n",
      "Epoch 34/35, Loss: 1.9428, Val Loss: 1.9390, Accuracy: 0.5355\n",
      "Epoch 35/35, Loss: 1.9398, Val Loss: 1.9373, Accuracy: 0.5361\n",
      "[1.9397804269603653, 1.9373450875282288, 0.5360714285714285]\n",
      "Epoch 1/35, Loss: 2.3025, Val Loss: 2.3017, Accuracy: 0.1614\n",
      "Epoch 2/35, Loss: 2.2990, Val Loss: 2.2976, Accuracy: 0.2370\n",
      "Epoch 3/35, Loss: 2.2907, Val Loss: 2.2684, Accuracy: 0.1820\n",
      "Epoch 4/35, Loss: 2.2278, Val Loss: 2.2062, Accuracy: 0.1979\n",
      "Epoch 5/35, Loss: 2.1892, Val Loss: 2.1732, Accuracy: 0.2414\n",
      "Epoch 6/35, Loss: 2.1605, Val Loss: 2.1520, Accuracy: 0.2771\n",
      "Epoch 7/35, Loss: 2.1412, Val Loss: 2.1298, Accuracy: 0.2980\n",
      "Epoch 8/35, Loss: 2.1109, Val Loss: 2.0849, Accuracy: 0.3655\n",
      "Epoch 9/35, Loss: 2.0585, Val Loss: 2.0330, Accuracy: 0.4227\n",
      "Epoch 10/35, Loss: 2.0123, Val Loss: 1.9898, Accuracy: 0.5091\n",
      "Epoch 11/35, Loss: 1.9734, Val Loss: 1.9540, Accuracy: 0.5646\n",
      "Epoch 12/35, Loss: 1.9403, Val Loss: 1.9238, Accuracy: 0.5784\n",
      "Epoch 13/35, Loss: 1.9160, Val Loss: 1.9030, Accuracy: 0.5852\n",
      "Epoch 14/35, Loss: 1.8976, Val Loss: 1.8889, Accuracy: 0.5896\n",
      "Epoch 15/35, Loss: 1.8838, Val Loss: 1.8783, Accuracy: 0.5934\n",
      "Epoch 16/35, Loss: 1.8751, Val Loss: 1.8709, Accuracy: 0.5977\n",
      "Epoch 17/35, Loss: 1.8692, Val Loss: 1.8663, Accuracy: 0.6023\n",
      "Epoch 18/35, Loss: 1.8649, Val Loss: 1.8623, Accuracy: 0.6032\n",
      "Epoch 19/35, Loss: 1.8602, Val Loss: 1.8587, Accuracy: 0.6045\n",
      "Epoch 20/35, Loss: 1.8572, Val Loss: 1.8566, Accuracy: 0.6066\n",
      "Epoch 21/35, Loss: 1.8548, Val Loss: 1.8550, Accuracy: 0.6088\n",
      "Epoch 22/35, Loss: 1.8529, Val Loss: 1.8528, Accuracy: 0.6084\n",
      "Epoch 23/35, Loss: 1.8504, Val Loss: 1.8517, Accuracy: 0.6102\n",
      "Epoch 24/35, Loss: 1.8495, Val Loss: 1.8499, Accuracy: 0.6114\n",
      "Epoch 25/35, Loss: 1.8471, Val Loss: 1.8489, Accuracy: 0.6121\n",
      "Epoch 26/35, Loss: 1.8461, Val Loss: 1.8479, Accuracy: 0.6111\n",
      "Epoch 27/35, Loss: 1.8448, Val Loss: 1.8465, Accuracy: 0.6134\n",
      "Epoch 28/35, Loss: 1.8441, Val Loss: 1.8459, Accuracy: 0.6159\n",
      "Epoch 29/35, Loss: 1.8430, Val Loss: 1.8447, Accuracy: 0.6152\n",
      "Epoch 30/35, Loss: 1.8417, Val Loss: 1.8443, Accuracy: 0.6161\n",
      "Epoch 31/35, Loss: 1.8400, Val Loss: 1.8434, Accuracy: 0.6164\n",
      "Epoch 32/35, Loss: 1.8395, Val Loss: 1.8430, Accuracy: 0.6179\n",
      "Epoch 33/35, Loss: 1.8385, Val Loss: 1.8418, Accuracy: 0.6175\n",
      "Epoch 34/35, Loss: 1.8376, Val Loss: 1.8416, Accuracy: 0.6188\n",
      "Epoch 35/35, Loss: 1.8371, Val Loss: 1.8413, Accuracy: 0.6188\n",
      "[1.837071937673232, 1.841282347838084, 0.61875]\n",
      "Epoch 1/35, Loss: 2.3025, Val Loss: 2.3021, Accuracy: 0.0970\n",
      "Epoch 2/35, Loss: 2.3015, Val Loss: 2.2989, Accuracy: 0.1170\n",
      "Epoch 3/35, Loss: 2.2718, Val Loss: 2.2354, Accuracy: 0.1389\n",
      "Epoch 4/35, Loss: 2.2160, Val Loss: 2.1952, Accuracy: 0.2916\n",
      "Epoch 5/35, Loss: 2.1807, Val Loss: 2.1629, Accuracy: 0.2802\n",
      "Epoch 6/35, Loss: 2.1555, Val Loss: 2.1431, Accuracy: 0.2812\n",
      "Epoch 7/35, Loss: 2.1410, Val Loss: 2.1333, Accuracy: 0.2946\n",
      "Epoch 8/35, Loss: 2.1332, Val Loss: 2.1277, Accuracy: 0.2959\n",
      "Epoch 9/35, Loss: 2.1290, Val Loss: 2.1215, Accuracy: 0.2986\n",
      "Epoch 10/35, Loss: 2.1205, Val Loss: 2.1105, Accuracy: 0.2991\n",
      "Epoch 11/35, Loss: 2.1044, Val Loss: 2.0924, Accuracy: 0.3212\n",
      "Epoch 12/35, Loss: 2.0873, Val Loss: 2.0756, Accuracy: 0.3563\n",
      "Epoch 13/35, Loss: 2.0734, Val Loss: 2.0620, Accuracy: 0.3775\n",
      "Epoch 14/35, Loss: 2.0416, Val Loss: 2.0056, Accuracy: 0.4580\n",
      "Epoch 15/35, Loss: 1.9755, Val Loss: 1.9473, Accuracy: 0.4986\n",
      "Epoch 16/35, Loss: 1.9423, Val Loss: 1.9247, Accuracy: 0.5454\n",
      "Epoch 17/35, Loss: 1.9242, Val Loss: 1.9102, Accuracy: 0.5536\n",
      "Epoch 18/35, Loss: 1.9116, Val Loss: 1.8989, Accuracy: 0.5729\n",
      "Epoch 19/35, Loss: 1.9024, Val Loss: 1.8925, Accuracy: 0.5737\n",
      "Epoch 20/35, Loss: 1.8933, Val Loss: 1.8823, Accuracy: 0.5811\n",
      "Epoch 21/35, Loss: 1.8845, Val Loss: 1.8705, Accuracy: 0.5955\n",
      "Epoch 22/35, Loss: 1.8722, Val Loss: 1.8572, Accuracy: 0.6084\n",
      "Epoch 23/35, Loss: 1.8571, Val Loss: 1.8440, Accuracy: 0.6220\n",
      "Epoch 24/35, Loss: 1.8445, Val Loss: 1.8320, Accuracy: 0.6370\n",
      "Epoch 25/35, Loss: 1.8331, Val Loss: 1.8205, Accuracy: 0.6552\n",
      "Epoch 26/35, Loss: 1.8250, Val Loss: 1.8143, Accuracy: 0.6593\n",
      "Epoch 27/35, Loss: 1.8191, Val Loss: 1.8104, Accuracy: 0.6623\n",
      "Epoch 28/35, Loss: 1.8137, Val Loss: 1.8041, Accuracy: 0.6648\n",
      "Epoch 29/35, Loss: 1.8080, Val Loss: 1.8001, Accuracy: 0.6675\n",
      "Epoch 30/35, Loss: 1.8021, Val Loss: 1.7933, Accuracy: 0.6737\n",
      "Epoch 31/35, Loss: 1.7969, Val Loss: 1.7896, Accuracy: 0.6771\n",
      "Epoch 32/35, Loss: 1.7935, Val Loss: 1.7861, Accuracy: 0.6809\n",
      "Epoch 33/35, Loss: 1.7896, Val Loss: 1.7843, Accuracy: 0.6816\n",
      "Epoch 34/35, Loss: 1.7865, Val Loss: 1.7814, Accuracy: 0.6823\n",
      "Epoch 35/35, Loss: 1.7832, Val Loss: 1.7809, Accuracy: 0.6820\n",
      "[1.7831967321096682, 1.7809402147928874, 0.6819642857142857]\n",
      "Epoch 1/35, Loss: 2.3023, Val Loss: 2.3019, Accuracy: 0.1170\n",
      "Epoch 2/35, Loss: 2.3002, Val Loss: 2.2951, Accuracy: 0.1170\n",
      "Epoch 3/35, Loss: 2.2681, Val Loss: 2.2265, Accuracy: 0.2396\n",
      "Epoch 4/35, Loss: 2.1716, Val Loss: 2.1138, Accuracy: 0.3414\n",
      "Epoch 5/35, Loss: 2.0761, Val Loss: 2.0400, Accuracy: 0.4205\n",
      "Epoch 6/35, Loss: 2.0150, Val Loss: 2.0000, Accuracy: 0.4659\n",
      "Epoch 7/35, Loss: 1.9856, Val Loss: 1.9715, Accuracy: 0.4950\n",
      "Epoch 8/35, Loss: 1.9683, Val Loss: 1.9610, Accuracy: 0.5050\n",
      "Epoch 9/35, Loss: 1.9582, Val Loss: 1.9521, Accuracy: 0.5114\n",
      "Epoch 10/35, Loss: 1.9521, Val Loss: 1.9490, Accuracy: 0.5141\n",
      "Epoch 11/35, Loss: 1.9473, Val Loss: 1.9436, Accuracy: 0.5191\n",
      "Epoch 12/35, Loss: 1.9427, Val Loss: 1.9410, Accuracy: 0.5211\n",
      "Epoch 13/35, Loss: 1.9396, Val Loss: 1.9438, Accuracy: 0.5175\n",
      "Epoch 14/35, Loss: 1.9359, Val Loss: 1.9361, Accuracy: 0.5266\n",
      "Epoch 15/35, Loss: 1.9283, Val Loss: 1.9265, Accuracy: 0.5284\n",
      "Epoch 16/35, Loss: 1.9161, Val Loss: 1.9143, Accuracy: 0.5521\n",
      "Epoch 17/35, Loss: 1.9019, Val Loss: 1.8974, Accuracy: 0.5714\n",
      "Epoch 18/35, Loss: 1.8922, Val Loss: 1.8900, Accuracy: 0.5784\n",
      "Epoch 19/35, Loss: 1.8869, Val Loss: 1.8894, Accuracy: 0.5787\n",
      "Epoch 20/35, Loss: 1.8809, Val Loss: 1.8817, Accuracy: 0.5843\n",
      "Epoch 21/35, Loss: 1.8777, Val Loss: 1.8795, Accuracy: 0.5868\n",
      "Epoch 22/35, Loss: 1.8758, Val Loss: 1.8785, Accuracy: 0.5882\n",
      "Epoch 23/35, Loss: 1.8707, Val Loss: 1.8720, Accuracy: 0.5941\n",
      "Epoch 24/35, Loss: 1.8703, Val Loss: 1.8702, Accuracy: 0.5952\n",
      "Epoch 25/35, Loss: 1.8664, Val Loss: 1.8690, Accuracy: 0.5962\n",
      "Epoch 26/35, Loss: 1.8654, Val Loss: 1.8725, Accuracy: 0.5905\n",
      "Epoch 27/35, Loss: 1.8631, Val Loss: 1.8661, Accuracy: 0.5984\n",
      "Epoch 28/35, Loss: 1.8627, Val Loss: 1.8650, Accuracy: 0.5988\n",
      "Epoch 29/35, Loss: 1.8606, Val Loss: 1.8635, Accuracy: 0.6009\n",
      "Epoch 30/35, Loss: 1.8579, Val Loss: 1.8598, Accuracy: 0.6057\n",
      "Epoch 31/35, Loss: 1.8557, Val Loss: 1.8581, Accuracy: 0.6070\n",
      "Epoch 32/35, Loss: 1.8563, Val Loss: 1.8568, Accuracy: 0.6068\n",
      "Epoch 33/35, Loss: 1.8544, Val Loss: 1.8597, Accuracy: 0.6059\n",
      "Epoch 34/35, Loss: 1.8535, Val Loss: 1.8582, Accuracy: 0.6046\n",
      "Epoch 35/35, Loss: 1.8521, Val Loss: 1.8561, Accuracy: 0.6077\n",
      "[1.8521058162053425, 1.8561242024103801, 0.6076785714285714]\n"
     ]
    }
   ],
   "source": [
    "model_stats=[]\n",
    "acc_models=[]\n",
    "loss_models=[]\n",
    "for model in models: \n",
    "    model=model.to(device)\n",
    "    criterion = nn.CrossEntropyLoss() \n",
    "    optimizer = torch.optim.Adam(model.parameters(), lr=0.001)\n",
    "    aux_stats,acc_hist,loss_hist=train_model(model,train_loader,val_loader,criterion,optimizer,epochs=35)\n",
    "    acc_models.append(deepcopy(acc_hist))\n",
    "    loss_models.append(deepcopy(loss_hist))\n",
    "    model_stats.append(deepcopy(aux_stats))\n",
    "    print(aux_stats)"
   ]
  },
  {
   "cell_type": "code",
   "execution_count": 23,
   "metadata": {},
   "outputs": [
    {
     "name": "stdout",
     "output_type": "stream",
     "text": [
      "[2.0521291050256467, 2.046935558319092, 0.4332142857142857]\n",
      "[1.9397804269603653, 1.9373450875282288, 0.5360714285714285]\n",
      "[1.837071937673232, 1.841282347838084, 0.61875]\n",
      "[1.7831967321096682, 1.7809402147928874, 0.6819642857142857]\n",
      "[1.8521058162053425, 1.8561242024103801, 0.6076785714285714]\n"
     ]
    }
   ],
   "source": [
    "for stat in model_stats:\n",
    "    print(stat)\n",
    "acc=[i[2] for i in model_stats]\n",
    "err=[i[-1] for i in loss_models]"
   ]
  },
  {
   "cell_type": "code",
   "execution_count": 24,
   "metadata": {},
   "outputs": [
    {
     "data": {
      "image/png": "[encoded data removed]",
      "text/plain": [
       "<Figure size 640x480 with 1 Axes>"
      ]
     },
     "metadata": {},
     "output_type": "display_data"
    }
   ],
   "source": [
    "plt.plot(params,acc,marker='o')\n",
    "plt.xlabel('Parametros')\n",
    "plt.ylabel('Accuracy')\n",
    "\n",
    "# Añadir un título\n",
    "plt.title('Modelo de varias capas')\n",
    "\n",
    "# Mostrar la gráfica\n",
    "plt.show()"
   ]
  },
  {
   "cell_type": "code",
   "execution_count": 30,
   "metadata": {},
   "outputs": [
    {
     "name": "stdout",
     "output_type": "stream",
     "text": [
      "Average Test Loss: 2.0603, Accuracy: 0.4171\n",
      "Average Test Loss: 1.9466, Accuracy: 0.5254\n",
      "Average Test Loss: 1.8484, Accuracy: 0.6121\n",
      "Average Test Loss: 1.7890, Accuracy: 0.6747\n",
      "Average Test Loss: 1.8632, Accuracy: 0.5996\n"
     ]
    }
   ],
   "source": [
    "loss_t=[]\n",
    "acc_t=[]\n",
    "for model in models:\n",
    "    auxl,auxa=test_loop(model,test_loader,criterion = nn.CrossEntropyLoss())\n",
    "    loss_t.append(auxl)\n",
    "    acc_t.append(auxa)"
   ]
  }
 ],
 "metadata": {
  "kernelspec": {
   "display_name": "torch_gpu",
   "language": "python",
   "name": "python3"
  },
  "language_info": {
   "codemirror_mode": {
    "name": "ipython",
    "version": 3
   },
   "file_extension": ".py",
   "mimetype": "text/x-python",
   "name": "python",
   "nbconvert_exporter": "python",
   "pygments_lexer": "ipython3",
   "version": "3.9.19"
  }
 },
 "nbformat": 4,
 "nbformat_minor": 2
}
