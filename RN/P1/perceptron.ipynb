{
 "cells": [
  {
   "cell_type": "code",
   "execution_count": 2,
   "metadata": {},
   "outputs": [],
   "source": [
    "import numpy as np\n",
    "import matplotlib.pyplot as plt"
   ]
  },
  {
   "cell_type": "markdown",
   "metadata": {},
   "source": [
    "Creando clases\n"
   ]
  },
  {
   "cell_type": "code",
   "execution_count": 5,
   "metadata": {},
   "outputs": [],
   "source": [
    "personas=np.array([[0.3,0.4],[0.4,0.3],\n",
    "                  [.3,.2],[.4,.1],\n",
    "                  [.5,.2],[.4,.8],\n",
    "                  [.6,.8],[.5,.6],\n",
    "                  [.7,.6],[.8,.5]])\n",
    "\n",
    "clases=np.array([0,0,0,0,0,1,1,1,1,1])"
   ]
  },
  {
   "cell_type": "markdown",
   "metadata": {},
   "source": [
    "Grafico de dispersión"
   ]
  },
  {
   "cell_type": "code",
   "execution_count": 6,
   "metadata": {},
   "outputs": [
    {
     "data": {
      "text/plain": [
       "<matplotlib.collections.PathCollection at 0x1f5aae6c990>"
      ]
     },
     "execution_count": 6,
     "metadata": {},
     "output_type": "execute_result"
    },
    {
     "data": {
      "image/png": "[encoded data removed]",
      "text/plain": [
       "<Figure size 640x480 with 1 Axes>"
      ]
     },
     "metadata": {},
     "output_type": "display_data"
    }
   ],
   "source": [
    "\n",
    "yc1=[]\n",
    "xc1=[]\n",
    "yc2=[]\n",
    "xc2=[]\n",
    "\n",
    "for i in range(len(personas)):\n",
    "    if clases[i]==0:\n",
    "        yc1.append(personas[i][1])\n",
    "        xc1.append(personas[i][0])\n",
    "    else:\n",
    "        yc2.append(personas[i][1])\n",
    "        xc2.append(personas[i][0])\n",
    "\n",
    "xc1=np.array(xc1)\n",
    "yc1=np.array(yc1)\n",
    "xc2=np.array(xc2)\n",
    "yc2=np.array(yc2)\n",
    "\n",
    "plt.scatter(xc1,yc1,color='brown',label=\"Denegada\")\n",
    "plt.scatter(xc2,yc2, color='green', label=\"Aprobada\")"
   ]
  },
  {
   "cell_type": "markdown",
   "metadata": {},
   "source": [
    "Funcion de activación"
   ]
  },
  {
   "cell_type": "code",
   "execution_count": 7,
   "metadata": {},
   "outputs": [],
   "source": [
    "def act_funct(input,weight,bias):\n",
    "    if input@weight+bias>0:\n",
    "        return 1\n",
    "    else:\n",
    "        return 0\n",
    "    "
   ]
  },
  {
   "cell_type": "markdown",
   "metadata": {},
   "source": [
    "Entrenamiento"
   ]
  },
  {
   "cell_type": "code",
   "execution_count": 11,
   "metadata": {},
   "outputs": [
    {
     "name": "stdout",
     "output_type": "stream",
     "text": [
      "5 5 5 5 5 5 6 7 6 7 6 7 5 5 6 5 5 5 6 5 5 5 6 5 5 4 5 4 4 5 4 4 4 5 4 4 5 4 4 3 4 3 2 4 3 2 2 2 3 2 2 2 2 3 2 2 2 2 2 3 2 2 1 2 2 2 2 1 2 2 2 1 2 2 2 1 2 2 2 1 2 2 2 1 2 2 2 2 "
     ]
    }
   ],
   "source": [
    "weight=np.random.uniform(-1,1,size=2)\n",
    "b=np.random.uniform(-1,1)\n",
    "learning_rate=.01\n",
    "epochs=100\n",
    "actual=10000\n",
    "better=0\n",
    "for epoch in range(epochs):\n",
    "    tot_error=0\n",
    "    for i in range(len(personas)):\n",
    "        predict=act_funct(personas[i],weight,b)\n",
    "        err=clases[i]-predict\n",
    "        tot_error+=err**2\n",
    "        weight+=learning_rate*personas[i]*err\n",
    "        b+=learning_rate*err\n",
    "    print(tot_error,end=\" \")\n",
    "    if actual<=tot_error:\n",
    "        better+=1\n",
    "        \n",
    "    else:\n",
    "        better=0\n",
    "        actual=tot_error\n",
    "    if better>=25:\n",
    "        break\n"
   ]
  },
  {
   "cell_type": "markdown",
   "metadata": {},
   "source": [
    "Pruebas"
   ]
  },
  {
   "cell_type": "code",
   "execution_count": 12,
   "metadata": {},
   "outputs": [
    {
     "name": "stdout",
     "output_type": "stream",
     "text": [
      "[-0.03016794  0.25021858]\n",
      "-0.08291816612186594\n"
     ]
    }
   ],
   "source": [
    "print(weight)\n",
    "print(b)"
   ]
  },
  {
   "cell_type": "code",
   "execution_count": 13,
   "metadata": {},
   "outputs": [
    {
     "name": "stdout",
     "output_type": "stream",
     "text": [
      "[0.1 0.7]\n",
      "Aprobada\n",
      "[0.6 0.8]\n",
      "Aprobada\n",
      "[0.6 0.4]\n",
      "Denegada\n"
     ]
    }
   ],
   "source": [
    "test=np.array([[.1,.7],[.6,.8],[.6,.4]])\n",
    "for ind in test:\n",
    "    print(ind)\n",
    "    res=act_funct(ind,weight,b)\n",
    "    if res==1:\n",
    "        print(\"Aprobada\")\n",
    "    else:\n",
    "        print(\"Denegada\")\n"
   ]
  }
 ],
 "metadata": {
  "kernelspec": {
   "display_name": "Python 3",
   "language": "python",
   "name": "python3"
  },
  "language_info": {
   "codemirror_mode": {
    "name": "ipython",
    "version": 3
   },
   "file_extension": ".py",
   "mimetype": "text/x-python",
   "name": "python",
   "nbconvert_exporter": "python",
   "pygments_lexer": "ipython3",
   "version": "3.11.8"
  }
 },
 "nbformat": 4,
 "nbformat_minor": 2
}
