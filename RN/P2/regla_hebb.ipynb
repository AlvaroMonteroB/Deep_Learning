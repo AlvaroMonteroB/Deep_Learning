{
 "cells": [
  {
   "cell_type": "code",
   "execution_count": 8,
   "metadata": {},
   "outputs": [],
   "source": [
    "import numpy as np\n",
    "\n",
    "# Datos de entrada para la compuerta AND\n",
    "X = np.array([[0, 0],\n",
    "              [0, 1],\n",
    "              [1, 0],\n",
    "              [1, 1]])\n",
    "\n",
    "# Salida deseada para la compuerta AND\n",
    "Y = np.array([[0],\n",
    "              [0],\n",
    "              [0],\n",
    "              [1]])"
   ]
  },
  {
   "cell_type": "code",
   "execution_count": 9,
   "metadata": {},
   "outputs": [],
   "source": [
    "# Inicialización de pesos sinápticos\n",
    "input_neurons = X.shape[1]\n",
    "hidden_neurons = 2\n",
    "output_neurons = 1\n",
    "\n",
    "W1 = np.random.rand(input_neurons, hidden_neurons)\n",
    "W2 = np.random.rand(hidden_neurons, output_neurons)\n"
   ]
  },
  {
   "cell_type": "code",
   "execution_count": 10,
   "metadata": {},
   "outputs": [],
   "source": [
    "# Función de activación (sigmoide)\n",
    "def sigmoid(x):\n",
    "    return 1 / (1 + np.exp(-x))\n",
    "\n",
    "# Función para predecir\n",
    "def predict(x):\n",
    "    # Capa oculta\n",
    "    hidden_input = np.dot(x, W1)\n",
    "    hidden_output = sigmoid(hidden_input)\n",
    "    \n",
    "    # Capa de salida\n",
    "    output = sigmoid(np.dot(hidden_output, W2))\n",
    "    \n",
    "    return output"
   ]
  },
  {
   "cell_type": "code",
   "execution_count": 11,
   "metadata": {},
   "outputs": [],
   "source": [
    "learning_rate = 0.1\n",
    "epochs = 10000\n",
    "\n",
    "for _ in range(epochs):\n",
    "    for i in range(len(X)):\n",
    "        # Feedforward\n",
    "        # Capa oculta\n",
    "        hidden_input = np.dot(X[i], W1)\n",
    "        hidden_output = sigmoid(hidden_input)\n",
    "        \n",
    "        # Capa de salida\n",
    "        output = sigmoid(np.dot(hidden_output, W2))\n",
    "        \n",
    "        # Error\n",
    "        error = Y[i] - output\n",
    "        \n",
    "        # Backpropagation aplicando la regla de Hebb\n",
    "        # Actualización de pesos de la capa de salida\n",
    "        delta_output = error * output * (1 - output)\n",
    "        delta_W2 = learning_rate * np.outer(hidden_output, delta_output)\n",
    "        W2 += delta_W2\n",
    "        \n",
    "        # Actualización de pesos de la capa oculta\n",
    "        delta_hidden = np.dot(delta_output, W2.T) * hidden_output * (1 - hidden_output)\n",
    "        delta_W1 = learning_rate * np.outer(X[i], delta_hidden)\n",
    "        W1 += delta_W1"
   ]
  },
  {
   "cell_type": "code",
   "execution_count": 12,
   "metadata": {},
   "outputs": [
    {
     "name": "stdout",
     "output_type": "stream",
     "text": [
      "Predicciones:\n",
      "0 AND 0 = 0\n",
      "0 AND 1 = 0\n",
      "1 AND 0 = 0\n",
      "1 AND 1 = 0\n"
     ]
    }
   ],
   "source": [
    "test_data = np.array([[0, 0],\n",
    "                      [0, 1],\n",
    "                      [1, 0],\n",
    "                      [1, 1]])\n",
    "\n",
    "print(\"Predicciones:\")\n",
    "for data in test_data:\n",
    "    prediction = predict(data)[0]\n",
    "    print(f\"{data[0]} AND {data[1]} = {round(prediction)}\")"
   ]
  }
 ],
 "metadata": {
  "kernelspec": {
   "display_name": "tensorflow-env",
   "language": "python",
   "name": "python3"
  },
  "language_info": {
   "codemirror_mode": {
    "name": "ipython",
    "version": 3
   },
   "file_extension": ".py",
   "mimetype": "text/x-python",
   "name": "python",
   "nbconvert_exporter": "python",
   "pygments_lexer": "ipython3",
   "version": "3.9.18"
  }
 },
 "nbformat": 4,
 "nbformat_minor": 2
}
