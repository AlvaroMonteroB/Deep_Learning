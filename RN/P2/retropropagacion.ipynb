{
 "cells": [
  {
   "cell_type": "code",
   "execution_count": 36,
   "metadata": {},
   "outputs": [],
   "source": [
    "#Montero Barraza Álvaro David\n",
    "#Ingeniería en IA\n",
    "#6BV1\n",
    "\n",
    "import numpy as np\n",
    "\n",
    "def sigmoid(x):\n",
    "    return 1/(1+np.exp(-x))\n"
   ]
  },
  {
   "cell_type": "code",
   "execution_count": 37,
   "metadata": {},
   "outputs": [],
   "source": [
    "def sigmoid_deriv(x):\n",
    "    return x*(1-x)\n"
   ]
  },
  {
   "cell_type": "code",
   "execution_count": 38,
   "metadata": {},
   "outputs": [],
   "source": [
    "X=np.array([[0,0],\n",
    "            [0,1],\n",
    "            [1,0],\n",
    "            [1,1]])\n",
    "\n",
    "y=np.array([[0],[1],[1],[0]\n",
    "            ])"
   ]
  },
  {
   "cell_type": "code",
   "execution_count": 39,
   "metadata": {},
   "outputs": [],
   "source": [
    "np.random.seed(3)\n",
    "input_neurons=2\n",
    "hidden_neurons=3\n",
    "output_neurons=1\n",
    "\n",
    "weights_input_hidden=np.random.uniform(size=(input_neurons,hidden_neurons))\n",
    "weight_hidden_output=np.random.uniform(size=(hidden_neurons,output_neurons))\n",
    "\n",
    "bias_hidden=np.random.uniform(size=(1,hidden_neurons))\n",
    "bias_output=np.random.uniform(size=(1,output_neurons))\n",
    "\n",
    "epochs=1000\n",
    "learning_rate=0.1\n",
    "\n"
   ]
  },
  {
   "cell_type": "code",
   "execution_count": 40,
   "metadata": {},
   "outputs": [],
   "source": [
    "#Entrenamiento\n",
    "\n",
    "for epoch in range(epochs):\n",
    "    #Feedforward\n",
    "    input_hidden=np.dot(X,weights_input_hidden)+bias_hidden#Calcula la entrada ponderada de la capa oculta\n",
    "    output_hidden=sigmoid(input_hidden)# Aplica la función de activación sigmoide a la entrada de la capa oculta\n",
    "    \n",
    "    input_output=np.dot(output_hidden,weight_hidden_output)+bias_output#Calcula la entrada ponderada de la capa de salida\n",
    "    output=sigmoid(input_output)#Aplica la función de activación sigmoide a la entrada de la capa de salida para obtener la salida final de la red neuronal.\n",
    "    #Calcular error\n",
    "    error=y-output\n",
    "\n",
    "    \n",
    "    #BackPropagation\n",
    "    delta_output=error*sigmoid_deriv(output)#Calcula el delta de error de la capa de salida multiplicando el error por la derivada de la función sigmoide aplicada a la salida de la capa de salida.\n",
    "    error_hidden=delta_output.dot(weight_hidden_output.T)#Calcula el error de la capa oculta propagando hacia atrás el error de la capa de salida a través de los pesos entre la capa oculta y la capa de salida.\n",
    "    delta_hidden=error_hidden*sigmoid_deriv(output_hidden)#Calcula el delta de error de la capa oculta multiplicando el error de la capa oculta por la derivada de la función sigmoide aplicada a la salida de la capa oculta.\n",
    "    \n",
    "    weight_hidden_output += output_hidden.T.dot( delta_output ) * learning_rate#Actualiza los pesos entre la capa oculta y la capa de salida utilizando el producto punto entre la transposición de la salida de la capa oculta y el delta de error de la capa de salida, multiplicado por una tasa de aprendizaje.\n",
    "    bias_output += np.sum( delta_output, axis=0, keepdims=True) * learning_rate#Actualiza el sesgo de la capa de salida sumando el delta de error de la capa de salida multiplicado por una tasa de aprendizaje.\n",
    "    weights_input_hidden += X.T.dot(delta_hidden) * learning_rate#Actualiza los pesos entre la capa de entrada y la capa oculta\n",
    "    bias_hidden += np.sum( delta_hidden, axis=0, keepdims=True) * learning_rate#Actualiza el sesgo de la capa oculta sumando el delta de error de la capa oculta"
   ]
  },
  {
   "cell_type": "code",
   "execution_count": 43,
   "metadata": {},
   "outputs": [
    {
     "name": "stdout",
     "output_type": "stream",
     "text": [
      "Resultados\n",
      "[[0.49032558]\n",
      " [0.50232274]\n",
      " [0.50849189]\n",
      " [0.5127118 ]]\n"
     ]
    }
   ],
   "source": [
    "#print(X)\n",
    "print(\"Resultados\")\n",
    "print(output)#Resultado de la probabilidad de clase\n",
    "#print(error)"
   ]
  }
 ],
 "metadata": {
  "kernelspec": {
   "display_name": "tensorflow-env",
   "language": "python",
   "name": "python3"
  },
  "language_info": {
   "codemirror_mode": {
    "name": "ipython",
    "version": 3
   },
   "file_extension": ".py",
   "mimetype": "text/x-python",
   "name": "python",
   "nbconvert_exporter": "python",
   "pygments_lexer": "ipython3",
   "version": "3.9.18"
  }
 },
 "nbformat": 4,
 "nbformat_minor": 2
}
